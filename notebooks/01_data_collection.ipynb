{
 "cells": [
  {
   "cell_type": "code",
   "execution_count": 28,
   "metadata": {},
   "outputs": [],
   "source": [
    "import requests\n",
    "import pandas as pd\n",
    "import datetime as dt\n",
    "import time"
   ]
  },
  {
   "cell_type": "code",
   "execution_count": 29,
   "metadata": {},
   "outputs": [],
   "source": [
    "sub_1 = 'energy' \n",
    "sub_2 = 'climate'"
   ]
  },
  {
   "cell_type": "markdown",
   "metadata": {},
   "source": [
    "### Sources\n",
    "https://www.youtube.com/watch?v=AcrjEWsMi_E&feature=youtu.be&ab_channel=RileyDallas\n",
    "\n",
    "https://psaw.readthedocs.io/en/latest/\n",
    "\n",
    "https://medium.com/@pasdan/how-to-scrap-reddit-using-pushshift-io-via-python-a3ebcc9b83f4\n",
    "\n",
    "https://news.gallup.com/opinion/gallup/321635/world-risk-poll-reveals-global-threat-climate-change.aspx\n",
    "\n",
    "https://news.gallup.com/poll/2167/Energy.aspx\n"
   ]
  },
  {
   "cell_type": "code",
   "execution_count": 30,
   "metadata": {},
   "outputs": [],
   "source": [
    "# Worked with Alec on the below function. .datetime method from https://psaw.readthedocs.io/en/latest/\n",
    "\n",
    "\n",
    "def get_posts(sub): \n",
    "    post_list = []\n",
    "    for i in range(1, 13):\n",
    "        end_date = int(dt.datetime(2021, i, 1).timestamp())\n",
    "        start_date = int(dt.datetime(2020, i, 1).timestamp())\n",
    "    \n",
    "        url = 'https://api.pushshift.io/reddit/search/submission'\n",
    "        \n",
    "        params = {\n",
    "            'subreddit': sub,\n",
    "            'before' : end_date,\n",
    "            'after' : start_date,\n",
    "            'size' : 100\n",
    "        }\n",
    "    \n",
    "        res = requests.get(url, params)\n",
    "        json = res.json()\n",
    "        post_list.extend(json['data'])\n",
    "        time.sleep(1)\n",
    "    \n",
    "    return pd.DataFrame(post_list)[['subreddit', 'title', 'selftext', 'score', 'id', 'author']]\n",
    "    \n",
    "    "
   ]
  },
  {
   "cell_type": "code",
   "execution_count": 41,
   "metadata": {},
   "outputs": [],
   "source": [
    "df_oil = get_posts('oil')"
   ]
  },
  {
   "cell_type": "code",
   "execution_count": 42,
   "metadata": {},
   "outputs": [
    {
     "data": {
      "text/plain": [
       "(1200, 6)"
      ]
     },
     "execution_count": 42,
     "metadata": {},
     "output_type": "execute_result"
    }
   ],
   "source": [
    "df_oil.shape"
   ]
  },
  {
   "cell_type": "code",
   "execution_count": null,
   "metadata": {},
   "outputs": [],
   "source": []
  },
  {
   "cell_type": "code",
   "execution_count": 32,
   "metadata": {},
   "outputs": [],
   "source": [
    "df_energy = get_posts('energy')"
   ]
  },
  {
   "cell_type": "code",
   "execution_count": 33,
   "metadata": {},
   "outputs": [
    {
     "data": {
      "text/html": [
       "<div>\n",
       "<style scoped>\n",
       "    .dataframe tbody tr th:only-of-type {\n",
       "        vertical-align: middle;\n",
       "    }\n",
       "\n",
       "    .dataframe tbody tr th {\n",
       "        vertical-align: top;\n",
       "    }\n",
       "\n",
       "    .dataframe thead th {\n",
       "        text-align: right;\n",
       "    }\n",
       "</style>\n",
       "<table border=\"1\" class=\"dataframe\">\n",
       "  <thead>\n",
       "    <tr style=\"text-align: right;\">\n",
       "      <th></th>\n",
       "      <th>subreddit</th>\n",
       "      <th>title</th>\n",
       "      <th>selftext</th>\n",
       "      <th>score</th>\n",
       "      <th>id</th>\n",
       "      <th>author</th>\n",
       "    </tr>\n",
       "  </thead>\n",
       "  <tbody>\n",
       "    <tr>\n",
       "      <th>0</th>\n",
       "      <td>energy</td>\n",
       "      <td>UAE minister and OPEC chief says IRENA’s solar...</td>\n",
       "      <td></td>\n",
       "      <td>1</td>\n",
       "      <td>eif1xg</td>\n",
       "      <td>Candid_Cryptographer</td>\n",
       "    </tr>\n",
       "    <tr>\n",
       "      <th>1</th>\n",
       "      <td>energy</td>\n",
       "      <td>Renewable electricity production in Germany in...</td>\n",
       "      <td></td>\n",
       "      <td>1</td>\n",
       "      <td>eigt4y</td>\n",
       "      <td>linknewtab</td>\n",
       "    </tr>\n",
       "    <tr>\n",
       "      <th>2</th>\n",
       "      <td>energy</td>\n",
       "      <td>Wyoming’s coal-fired economy is coming to an end</td>\n",
       "      <td></td>\n",
       "      <td>1</td>\n",
       "      <td>eihxsh</td>\n",
       "      <td>wainstead</td>\n",
       "    </tr>\n",
       "    <tr>\n",
       "      <th>3</th>\n",
       "      <td>energy</td>\n",
       "      <td>Trump administration says it will approve larg...</td>\n",
       "      <td></td>\n",
       "      <td>1</td>\n",
       "      <td>eijzgu</td>\n",
       "      <td>rieslingatkos</td>\n",
       "    </tr>\n",
       "    <tr>\n",
       "      <th>4</th>\n",
       "      <td>energy</td>\n",
       "      <td>Saudi Arabia Isn’t Getting Bullish About Oil f...</td>\n",
       "      <td></td>\n",
       "      <td>1</td>\n",
       "      <td>eikk81</td>\n",
       "      <td>Candid_Cryptographer</td>\n",
       "    </tr>\n",
       "  </tbody>\n",
       "</table>\n",
       "</div>"
      ],
      "text/plain": [
       "  subreddit                                              title selftext  \\\n",
       "0    energy  UAE minister and OPEC chief says IRENA’s solar...            \n",
       "1    energy  Renewable electricity production in Germany in...            \n",
       "2    energy   Wyoming’s coal-fired economy is coming to an end            \n",
       "3    energy  Trump administration says it will approve larg...            \n",
       "4    energy  Saudi Arabia Isn’t Getting Bullish About Oil f...            \n",
       "\n",
       "   score      id                author  \n",
       "0      1  eif1xg  Candid_Cryptographer  \n",
       "1      1  eigt4y            linknewtab  \n",
       "2      1  eihxsh             wainstead  \n",
       "3      1  eijzgu         rieslingatkos  \n",
       "4      1  eikk81  Candid_Cryptographer  "
      ]
     },
     "execution_count": 33,
     "metadata": {},
     "output_type": "execute_result"
    }
   ],
   "source": [
    "df_energy.head()"
   ]
  },
  {
   "cell_type": "code",
   "execution_count": 34,
   "metadata": {},
   "outputs": [
    {
     "data": {
      "text/plain": [
       "(1200, 6)"
      ]
     },
     "execution_count": 34,
     "metadata": {},
     "output_type": "execute_result"
    }
   ],
   "source": [
    "df_energy.shape"
   ]
  },
  {
   "cell_type": "code",
   "execution_count": 35,
   "metadata": {},
   "outputs": [],
   "source": [
    "df_climate = get_posts('climate')"
   ]
  },
  {
   "cell_type": "code",
   "execution_count": 36,
   "metadata": {},
   "outputs": [
    {
     "data": {
      "text/html": [
       "<div>\n",
       "<style scoped>\n",
       "    .dataframe tbody tr th:only-of-type {\n",
       "        vertical-align: middle;\n",
       "    }\n",
       "\n",
       "    .dataframe tbody tr th {\n",
       "        vertical-align: top;\n",
       "    }\n",
       "\n",
       "    .dataframe thead th {\n",
       "        text-align: right;\n",
       "    }\n",
       "</style>\n",
       "<table border=\"1\" class=\"dataframe\">\n",
       "  <thead>\n",
       "    <tr style=\"text-align: right;\">\n",
       "      <th></th>\n",
       "      <th>subreddit</th>\n",
       "      <th>title</th>\n",
       "      <th>selftext</th>\n",
       "      <th>score</th>\n",
       "      <th>id</th>\n",
       "      <th>author</th>\n",
       "    </tr>\n",
       "  </thead>\n",
       "  <tbody>\n",
       "    <tr>\n",
       "      <th>0</th>\n",
       "      <td>climate</td>\n",
       "      <td>How to Reach 100% Clean Energy By 2050?</td>\n",
       "      <td></td>\n",
       "      <td>1</td>\n",
       "      <td>eihfq4</td>\n",
       "      <td>SeekersThoughtsUP</td>\n",
       "    </tr>\n",
       "    <tr>\n",
       "      <th>1</th>\n",
       "      <td>climate</td>\n",
       "      <td>Prince William unveils 'Earthshot prize' to ta...</td>\n",
       "      <td></td>\n",
       "      <td>1</td>\n",
       "      <td>eihfqo</td>\n",
       "      <td>OldFashionedJizz</td>\n",
       "    </tr>\n",
       "    <tr>\n",
       "      <th>2</th>\n",
       "      <td>climate</td>\n",
       "      <td>How to talk to parents (late 60s / early 70s) ...</td>\n",
       "      <td>They acknowledge the issue, they just don't wa...</td>\n",
       "      <td>1</td>\n",
       "      <td>eijkdw</td>\n",
       "      <td>Hrafn2</td>\n",
       "    </tr>\n",
       "    <tr>\n",
       "      <th>3</th>\n",
       "      <td>climate</td>\n",
       "      <td>Shell made a film about climate change in 1991...</td>\n",
       "      <td></td>\n",
       "      <td>1</td>\n",
       "      <td>eijz9l</td>\n",
       "      <td>fungussa</td>\n",
       "    </tr>\n",
       "    <tr>\n",
       "      <th>4</th>\n",
       "      <td>climate</td>\n",
       "      <td>Climate And Energy For Dummies</td>\n",
       "      <td>This is the only climate chart you'll ever nee...</td>\n",
       "      <td>1</td>\n",
       "      <td>eik0hm</td>\n",
       "      <td>CommonEmployment</td>\n",
       "    </tr>\n",
       "  </tbody>\n",
       "</table>\n",
       "</div>"
      ],
      "text/plain": [
       "  subreddit                                              title  \\\n",
       "0   climate            How to Reach 100% Clean Energy By 2050?   \n",
       "1   climate  Prince William unveils 'Earthshot prize' to ta...   \n",
       "2   climate  How to talk to parents (late 60s / early 70s) ...   \n",
       "3   climate  Shell made a film about climate change in 1991...   \n",
       "4   climate                     Climate And Energy For Dummies   \n",
       "\n",
       "                                            selftext  score      id  \\\n",
       "0                                                         1  eihfq4   \n",
       "1                                                         1  eihfqo   \n",
       "2  They acknowledge the issue, they just don't wa...      1  eijkdw   \n",
       "3                                                         1  eijz9l   \n",
       "4  This is the only climate chart you'll ever nee...      1  eik0hm   \n",
       "\n",
       "              author  \n",
       "0  SeekersThoughtsUP  \n",
       "1   OldFashionedJizz  \n",
       "2             Hrafn2  \n",
       "3           fungussa  \n",
       "4   CommonEmployment  "
      ]
     },
     "execution_count": 36,
     "metadata": {},
     "output_type": "execute_result"
    }
   ],
   "source": [
    "df_climate.head()"
   ]
  },
  {
   "cell_type": "code",
   "execution_count": 40,
   "metadata": {},
   "outputs": [],
   "source": [
    "df_climate.to_csv('../data/climate_df.csv')\n",
    "df_energy.to_csv('../data/energy_df.csv')"
   ]
  }
 ],
 "metadata": {
  "kernelspec": {
   "display_name": "Python 3",
   "language": "python",
   "name": "python3"
  },
  "language_info": {
   "codemirror_mode": {
    "name": "ipython",
    "version": 3
   },
   "file_extension": ".py",
   "mimetype": "text/x-python",
   "name": "python",
   "nbconvert_exporter": "python",
   "pygments_lexer": "ipython3",
   "version": "3.8.5"
  }
 },
 "nbformat": 4,
 "nbformat_minor": 4
}
