{
 "cells": [
  {
   "cell_type": "markdown",
   "metadata": {},
   "source": [
    "# Pre-processing & Modeling"
   ]
  },
  {
   "cell_type": "markdown",
   "metadata": {},
   "source": [
    "In this notebook, the separate climate and energy subreddits are combined. They are reclassified into a boolean form where climate = 1 and energy = 0. Prior to modeling, sentiment analysis is undertaken to gain a better appreciation for the tone observed in the two subreddits. Finally, six models are run to identify the optimal production model for predicting whether text belongs either subreddit."
   ]
  },
  {
   "cell_type": "code",
   "execution_count": 359,
   "metadata": {},
   "outputs": [],
   "source": [
    "### Import libaries\n",
    "import pandas as pd\n",
    "import matplotlib.pyplot as plt\n",
    "import seaborn as sns\n",
    "import re\n",
    "import numpy as np\n",
    "\n",
    "from sklearn.model_selection import train_test_split, GridSearchCV, cross_val_score\n",
    "from sklearn.pipeline import Pipeline\n",
    "from sklearn.naive_bayes import MultinomialNB\n",
    "from sklearn.linear_model import LogisticRegression\n",
    "from sklearn.metrics import confusion_matrix, plot_confusion_matrix, accuracy_score\n",
    "from sklearn.feature_extraction.text import CountVectorizer, TfidfVectorizer\n",
    "from sklearn.feature_extraction import text \n",
    "from sklearn.neighbors import KNeighborsClassifier\n",
    "from sklearn.ensemble import RandomForestClassifier\n",
    "\n",
    "from nltk.tokenize import sent_tokenize, word_tokenize, RegexpTokenizer\n",
    "from nltk.stem import WordNetLemmatizer\n",
    "from nltk.stem.porter import PorterStemmer\n",
    "from nltk.corpus import stopwords\n",
    "from nltk.sentiment.vader import SentimentIntensityAnalyzer\n"
   ]
  },
  {
   "cell_type": "code",
   "execution_count": 172,
   "metadata": {},
   "outputs": [],
   "source": [
    "# Read in the climate csv\n",
    "climate = pd.read_csv('../data/climate_df.csv')"
   ]
  },
  {
   "cell_type": "code",
   "execution_count": 173,
   "metadata": {},
   "outputs": [
    {
     "data": {
      "text/html": [
       "<div>\n",
       "<style scoped>\n",
       "    .dataframe tbody tr th:only-of-type {\n",
       "        vertical-align: middle;\n",
       "    }\n",
       "\n",
       "    .dataframe tbody tr th {\n",
       "        vertical-align: top;\n",
       "    }\n",
       "\n",
       "    .dataframe thead th {\n",
       "        text-align: right;\n",
       "    }\n",
       "</style>\n",
       "<table border=\"1\" class=\"dataframe\">\n",
       "  <thead>\n",
       "    <tr style=\"text-align: right;\">\n",
       "      <th></th>\n",
       "      <th>Unnamed: 0</th>\n",
       "      <th>subreddit</th>\n",
       "      <th>title</th>\n",
       "      <th>score</th>\n",
       "      <th>id</th>\n",
       "      <th>author</th>\n",
       "    </tr>\n",
       "  </thead>\n",
       "  <tbody>\n",
       "    <tr>\n",
       "      <th>0</th>\n",
       "      <td>0</td>\n",
       "      <td>climate</td>\n",
       "      <td>How to Reach 100% Clean Energy By 2050?</td>\n",
       "      <td>1</td>\n",
       "      <td>eihfq4</td>\n",
       "      <td>SeekersThoughtsUP</td>\n",
       "    </tr>\n",
       "    <tr>\n",
       "      <th>1</th>\n",
       "      <td>1</td>\n",
       "      <td>climate</td>\n",
       "      <td>Prince William unveils 'Earthshot prize' to ta...</td>\n",
       "      <td>1</td>\n",
       "      <td>eihfqo</td>\n",
       "      <td>OldFashionedJizz</td>\n",
       "    </tr>\n",
       "    <tr>\n",
       "      <th>2</th>\n",
       "      <td>2</td>\n",
       "      <td>climate</td>\n",
       "      <td>How to talk to parents (late 60s / early 70s) ...</td>\n",
       "      <td>1</td>\n",
       "      <td>eijkdw</td>\n",
       "      <td>Hrafn2</td>\n",
       "    </tr>\n",
       "    <tr>\n",
       "      <th>3</th>\n",
       "      <td>3</td>\n",
       "      <td>climate</td>\n",
       "      <td>Shell made a film about climate change in 1991...</td>\n",
       "      <td>1</td>\n",
       "      <td>eijz9l</td>\n",
       "      <td>fungussa</td>\n",
       "    </tr>\n",
       "    <tr>\n",
       "      <th>4</th>\n",
       "      <td>4</td>\n",
       "      <td>climate</td>\n",
       "      <td>Climate And Energy For Dummies</td>\n",
       "      <td>1</td>\n",
       "      <td>eik0hm</td>\n",
       "      <td>CommonEmployment</td>\n",
       "    </tr>\n",
       "  </tbody>\n",
       "</table>\n",
       "</div>"
      ],
      "text/plain": [
       "   Unnamed: 0 subreddit                                              title  \\\n",
       "0           0   climate            How to Reach 100% Clean Energy By 2050?   \n",
       "1           1   climate  Prince William unveils 'Earthshot prize' to ta...   \n",
       "2           2   climate  How to talk to parents (late 60s / early 70s) ...   \n",
       "3           3   climate  Shell made a film about climate change in 1991...   \n",
       "4           4   climate                     Climate And Energy For Dummies   \n",
       "\n",
       "   score      id             author  \n",
       "0      1  eihfq4  SeekersThoughtsUP  \n",
       "1      1  eihfqo   OldFashionedJizz  \n",
       "2      1  eijkdw             Hrafn2  \n",
       "3      1  eijz9l           fungussa  \n",
       "4      1  eik0hm   CommonEmployment  "
      ]
     },
     "execution_count": 173,
     "metadata": {},
     "output_type": "execute_result"
    }
   ],
   "source": [
    "climate.head()"
   ]
  },
  {
   "cell_type": "code",
   "execution_count": 330,
   "metadata": {},
   "outputs": [],
   "source": [
    "# Read in the energy csv\n",
    "energy = pd.read_csv('../data/energy_df.csv')"
   ]
  },
  {
   "cell_type": "code",
   "execution_count": 175,
   "metadata": {},
   "outputs": [
    {
     "data": {
      "text/html": [
       "<div>\n",
       "<style scoped>\n",
       "    .dataframe tbody tr th:only-of-type {\n",
       "        vertical-align: middle;\n",
       "    }\n",
       "\n",
       "    .dataframe tbody tr th {\n",
       "        vertical-align: top;\n",
       "    }\n",
       "\n",
       "    .dataframe thead th {\n",
       "        text-align: right;\n",
       "    }\n",
       "</style>\n",
       "<table border=\"1\" class=\"dataframe\">\n",
       "  <thead>\n",
       "    <tr style=\"text-align: right;\">\n",
       "      <th></th>\n",
       "      <th>Unnamed: 0</th>\n",
       "      <th>subreddit</th>\n",
       "      <th>title</th>\n",
       "      <th>score</th>\n",
       "      <th>id</th>\n",
       "      <th>author</th>\n",
       "    </tr>\n",
       "  </thead>\n",
       "  <tbody>\n",
       "    <tr>\n",
       "      <th>0</th>\n",
       "      <td>0</td>\n",
       "      <td>energy</td>\n",
       "      <td>UAE minister and OPEC chief says IRENA’s solar...</td>\n",
       "      <td>1</td>\n",
       "      <td>eif1xg</td>\n",
       "      <td>Candid_Cryptographer</td>\n",
       "    </tr>\n",
       "    <tr>\n",
       "      <th>1</th>\n",
       "      <td>1</td>\n",
       "      <td>energy</td>\n",
       "      <td>Renewable electricity production in Germany in...</td>\n",
       "      <td>1</td>\n",
       "      <td>eigt4y</td>\n",
       "      <td>linknewtab</td>\n",
       "    </tr>\n",
       "    <tr>\n",
       "      <th>2</th>\n",
       "      <td>2</td>\n",
       "      <td>energy</td>\n",
       "      <td>Wyoming’s coal-fired economy is coming to an end</td>\n",
       "      <td>1</td>\n",
       "      <td>eihxsh</td>\n",
       "      <td>wainstead</td>\n",
       "    </tr>\n",
       "    <tr>\n",
       "      <th>3</th>\n",
       "      <td>3</td>\n",
       "      <td>energy</td>\n",
       "      <td>Trump administration says it will approve larg...</td>\n",
       "      <td>1</td>\n",
       "      <td>eijzgu</td>\n",
       "      <td>rieslingatkos</td>\n",
       "    </tr>\n",
       "    <tr>\n",
       "      <th>4</th>\n",
       "      <td>4</td>\n",
       "      <td>energy</td>\n",
       "      <td>Saudi Arabia Isn’t Getting Bullish About Oil f...</td>\n",
       "      <td>1</td>\n",
       "      <td>eikk81</td>\n",
       "      <td>Candid_Cryptographer</td>\n",
       "    </tr>\n",
       "  </tbody>\n",
       "</table>\n",
       "</div>"
      ],
      "text/plain": [
       "   Unnamed: 0 subreddit                                              title  \\\n",
       "0           0    energy  UAE minister and OPEC chief says IRENA’s solar...   \n",
       "1           1    energy  Renewable electricity production in Germany in...   \n",
       "2           2    energy   Wyoming’s coal-fired economy is coming to an end   \n",
       "3           3    energy  Trump administration says it will approve larg...   \n",
       "4           4    energy  Saudi Arabia Isn’t Getting Bullish About Oil f...   \n",
       "\n",
       "   score      id                author  \n",
       "0      1  eif1xg  Candid_Cryptographer  \n",
       "1      1  eigt4y            linknewtab  \n",
       "2      1  eihxsh             wainstead  \n",
       "3      1  eijzgu         rieslingatkos  \n",
       "4      1  eikk81  Candid_Cryptographer  "
      ]
     },
     "execution_count": 175,
     "metadata": {},
     "output_type": "execute_result"
    }
   ],
   "source": [
    "energy.head()"
   ]
  },
  {
   "cell_type": "markdown",
   "metadata": {},
   "source": [
    "### Let's combine both subreddits, so that we can convert the data to a matrix representation"
   ]
  },
  {
   "cell_type": "code",
   "execution_count": 212,
   "metadata": {},
   "outputs": [],
   "source": [
    "reddit = pd.concat([climate, energy]).reset_index(drop=True)"
   ]
  },
  {
   "cell_type": "code",
   "execution_count": 213,
   "metadata": {},
   "outputs": [],
   "source": [
    "reddit.to_csv('../data/reddit.csv')"
   ]
  },
  {
   "cell_type": "code",
   "execution_count": 214,
   "metadata": {},
   "outputs": [
    {
     "data": {
      "text/plain": [
       "Unnamed: 0     int64\n",
       "subreddit     object\n",
       "title         object\n",
       "score          int64\n",
       "id            object\n",
       "author        object\n",
       "dtype: object"
      ]
     },
     "execution_count": 214,
     "metadata": {},
     "output_type": "execute_result"
    }
   ],
   "source": [
    "reddit.dtypes"
   ]
  },
  {
   "cell_type": "markdown",
   "metadata": {},
   "source": [
    "### Map our 'subreddit' column into binary labels\n",
    "1 for climate, 0 for energy"
   ]
  },
  {
   "cell_type": "code",
   "execution_count": 215,
   "metadata": {},
   "outputs": [
    {
     "data": {
      "text/html": [
       "<div>\n",
       "<style scoped>\n",
       "    .dataframe tbody tr th:only-of-type {\n",
       "        vertical-align: middle;\n",
       "    }\n",
       "\n",
       "    .dataframe tbody tr th {\n",
       "        vertical-align: top;\n",
       "    }\n",
       "\n",
       "    .dataframe thead th {\n",
       "        text-align: right;\n",
       "    }\n",
       "</style>\n",
       "<table border=\"1\" class=\"dataframe\">\n",
       "  <thead>\n",
       "    <tr style=\"text-align: right;\">\n",
       "      <th></th>\n",
       "      <th>Unnamed: 0</th>\n",
       "      <th>subreddit</th>\n",
       "      <th>title</th>\n",
       "      <th>score</th>\n",
       "      <th>id</th>\n",
       "      <th>author</th>\n",
       "    </tr>\n",
       "  </thead>\n",
       "  <tbody>\n",
       "    <tr>\n",
       "      <th>0</th>\n",
       "      <td>0</td>\n",
       "      <td>1</td>\n",
       "      <td>How to Reach 100% Clean Energy By 2050?</td>\n",
       "      <td>1</td>\n",
       "      <td>eihfq4</td>\n",
       "      <td>SeekersThoughtsUP</td>\n",
       "    </tr>\n",
       "    <tr>\n",
       "      <th>1</th>\n",
       "      <td>1</td>\n",
       "      <td>1</td>\n",
       "      <td>Prince William unveils 'Earthshot prize' to ta...</td>\n",
       "      <td>1</td>\n",
       "      <td>eihfqo</td>\n",
       "      <td>OldFashionedJizz</td>\n",
       "    </tr>\n",
       "    <tr>\n",
       "      <th>2</th>\n",
       "      <td>2</td>\n",
       "      <td>1</td>\n",
       "      <td>How to talk to parents (late 60s / early 70s) ...</td>\n",
       "      <td>1</td>\n",
       "      <td>eijkdw</td>\n",
       "      <td>Hrafn2</td>\n",
       "    </tr>\n",
       "    <tr>\n",
       "      <th>3</th>\n",
       "      <td>3</td>\n",
       "      <td>1</td>\n",
       "      <td>Shell made a film about climate change in 1991...</td>\n",
       "      <td>1</td>\n",
       "      <td>eijz9l</td>\n",
       "      <td>fungussa</td>\n",
       "    </tr>\n",
       "    <tr>\n",
       "      <th>4</th>\n",
       "      <td>4</td>\n",
       "      <td>1</td>\n",
       "      <td>Climate And Energy For Dummies</td>\n",
       "      <td>1</td>\n",
       "      <td>eik0hm</td>\n",
       "      <td>CommonEmployment</td>\n",
       "    </tr>\n",
       "  </tbody>\n",
       "</table>\n",
       "</div>"
      ],
      "text/plain": [
       "   Unnamed: 0  subreddit                                              title  \\\n",
       "0           0          1            How to Reach 100% Clean Energy By 2050?   \n",
       "1           1          1  Prince William unveils 'Earthshot prize' to ta...   \n",
       "2           2          1  How to talk to parents (late 60s / early 70s) ...   \n",
       "3           3          1  Shell made a film about climate change in 1991...   \n",
       "4           4          1                     Climate And Energy For Dummies   \n",
       "\n",
       "   score      id             author  \n",
       "0      1  eihfq4  SeekersThoughtsUP  \n",
       "1      1  eihfqo   OldFashionedJizz  \n",
       "2      1  eijkdw             Hrafn2  \n",
       "3      1  eijz9l           fungussa  \n",
       "4      1  eik0hm   CommonEmployment  "
      ]
     },
     "execution_count": 215,
     "metadata": {},
     "output_type": "execute_result"
    }
   ],
   "source": [
    "reddit['subreddit'] = reddit['subreddit'].map({'climate' :1, 'energy':0})\n",
    "reddit.head()"
   ]
  },
  {
   "cell_type": "code",
   "execution_count": 216,
   "metadata": {},
   "outputs": [
    {
     "data": {
      "text/plain": [
       "(2400, 6)"
      ]
     },
     "execution_count": 216,
     "metadata": {},
     "output_type": "execute_result"
    }
   ],
   "source": [
    "reddit.shape"
   ]
  },
  {
   "cell_type": "markdown",
   "metadata": {},
   "source": [
    "## Sentiment Analyzer"
   ]
  },
  {
   "cell_type": "markdown",
   "metadata": {},
   "source": [
    "#### Let's utilize Sentiment Analyzer to better understand the tone of posts associated with each subreddit."
   ]
  },
  {
   "cell_type": "code",
   "execution_count": 293,
   "metadata": {},
   "outputs": [],
   "source": [
    "sia = SentimentIntensityAnalyzer()"
   ]
  },
  {
   "cell_type": "code",
   "execution_count": 294,
   "metadata": {},
   "outputs": [],
   "source": [
    "scores = []\n",
    "\n",
    "for each in reddit['title']:\n",
    "    current_scores = sia.polarity_scores(each)\n",
    "    scores.append(current_scores)"
   ]
  },
  {
   "cell_type": "code",
   "execution_count": 295,
   "metadata": {},
   "outputs": [],
   "source": [
    "scores_reddit = pd.DataFrame(scores)"
   ]
  },
  {
   "cell_type": "code",
   "execution_count": 296,
   "metadata": {},
   "outputs": [
    {
     "data": {
      "text/html": [
       "<div>\n",
       "<style scoped>\n",
       "    .dataframe tbody tr th:only-of-type {\n",
       "        vertical-align: middle;\n",
       "    }\n",
       "\n",
       "    .dataframe tbody tr th {\n",
       "        vertical-align: top;\n",
       "    }\n",
       "\n",
       "    .dataframe thead th {\n",
       "        text-align: right;\n",
       "    }\n",
       "</style>\n",
       "<table border=\"1\" class=\"dataframe\">\n",
       "  <thead>\n",
       "    <tr style=\"text-align: right;\">\n",
       "      <th></th>\n",
       "      <th>neg</th>\n",
       "      <th>neu</th>\n",
       "      <th>pos</th>\n",
       "      <th>compound</th>\n",
       "    </tr>\n",
       "  </thead>\n",
       "  <tbody>\n",
       "    <tr>\n",
       "      <th>0</th>\n",
       "      <td>0.000</td>\n",
       "      <td>0.459</td>\n",
       "      <td>0.541</td>\n",
       "      <td>0.5994</td>\n",
       "    </tr>\n",
       "    <tr>\n",
       "      <th>1</th>\n",
       "      <td>0.126</td>\n",
       "      <td>0.613</td>\n",
       "      <td>0.261</td>\n",
       "      <td>0.5267</td>\n",
       "    </tr>\n",
       "    <tr>\n",
       "      <th>2</th>\n",
       "      <td>0.000</td>\n",
       "      <td>1.000</td>\n",
       "      <td>0.000</td>\n",
       "      <td>0.0000</td>\n",
       "    </tr>\n",
       "    <tr>\n",
       "      <th>3</th>\n",
       "      <td>0.195</td>\n",
       "      <td>0.805</td>\n",
       "      <td>0.000</td>\n",
       "      <td>-0.5267</td>\n",
       "    </tr>\n",
       "    <tr>\n",
       "      <th>4</th>\n",
       "      <td>0.000</td>\n",
       "      <td>0.656</td>\n",
       "      <td>0.344</td>\n",
       "      <td>0.2732</td>\n",
       "    </tr>\n",
       "    <tr>\n",
       "      <th>...</th>\n",
       "      <td>...</td>\n",
       "      <td>...</td>\n",
       "      <td>...</td>\n",
       "      <td>...</td>\n",
       "    </tr>\n",
       "    <tr>\n",
       "      <th>2395</th>\n",
       "      <td>0.000</td>\n",
       "      <td>0.816</td>\n",
       "      <td>0.184</td>\n",
       "      <td>0.2023</td>\n",
       "    </tr>\n",
       "    <tr>\n",
       "      <th>2396</th>\n",
       "      <td>0.000</td>\n",
       "      <td>0.763</td>\n",
       "      <td>0.237</td>\n",
       "      <td>0.4215</td>\n",
       "    </tr>\n",
       "    <tr>\n",
       "      <th>2397</th>\n",
       "      <td>0.172</td>\n",
       "      <td>0.828</td>\n",
       "      <td>0.000</td>\n",
       "      <td>-0.4019</td>\n",
       "    </tr>\n",
       "    <tr>\n",
       "      <th>2398</th>\n",
       "      <td>0.113</td>\n",
       "      <td>0.887</td>\n",
       "      <td>0.000</td>\n",
       "      <td>-0.1027</td>\n",
       "    </tr>\n",
       "    <tr>\n",
       "      <th>2399</th>\n",
       "      <td>0.000</td>\n",
       "      <td>0.804</td>\n",
       "      <td>0.196</td>\n",
       "      <td>0.2960</td>\n",
       "    </tr>\n",
       "  </tbody>\n",
       "</table>\n",
       "<p>2400 rows × 4 columns</p>\n",
       "</div>"
      ],
      "text/plain": [
       "        neg    neu    pos  compound\n",
       "0     0.000  0.459  0.541    0.5994\n",
       "1     0.126  0.613  0.261    0.5267\n",
       "2     0.000  1.000  0.000    0.0000\n",
       "3     0.195  0.805  0.000   -0.5267\n",
       "4     0.000  0.656  0.344    0.2732\n",
       "...     ...    ...    ...       ...\n",
       "2395  0.000  0.816  0.184    0.2023\n",
       "2396  0.000  0.763  0.237    0.4215\n",
       "2397  0.172  0.828  0.000   -0.4019\n",
       "2398  0.113  0.887  0.000   -0.1027\n",
       "2399  0.000  0.804  0.196    0.2960\n",
       "\n",
       "[2400 rows x 4 columns]"
      ]
     },
     "execution_count": 296,
     "metadata": {},
     "output_type": "execute_result"
    }
   ],
   "source": [
    "scores_reddit"
   ]
  },
  {
   "cell_type": "markdown",
   "metadata": {},
   "source": [
    "#### Let's combine the sentiment scores with our main dataframe"
   ]
  },
  {
   "cell_type": "code",
   "execution_count": 298,
   "metadata": {},
   "outputs": [],
   "source": [
    "new_df = pd.concat([X_test_df, y_test_df], axis =1)"
   ]
  },
  {
   "cell_type": "code",
   "execution_count": 299,
   "metadata": {},
   "outputs": [],
   "source": [
    "sentiment_df = pd.concat([reddit, scores_reddit], axis=1)"
   ]
  },
  {
   "cell_type": "code",
   "execution_count": 300,
   "metadata": {},
   "outputs": [
    {
     "data": {
      "text/html": [
       "<div>\n",
       "<style scoped>\n",
       "    .dataframe tbody tr th:only-of-type {\n",
       "        vertical-align: middle;\n",
       "    }\n",
       "\n",
       "    .dataframe tbody tr th {\n",
       "        vertical-align: top;\n",
       "    }\n",
       "\n",
       "    .dataframe thead th {\n",
       "        text-align: right;\n",
       "    }\n",
       "</style>\n",
       "<table border=\"1\" class=\"dataframe\">\n",
       "  <thead>\n",
       "    <tr style=\"text-align: right;\">\n",
       "      <th></th>\n",
       "      <th>Unnamed: 0</th>\n",
       "      <th>subreddit</th>\n",
       "      <th>title</th>\n",
       "      <th>score</th>\n",
       "      <th>id</th>\n",
       "      <th>author</th>\n",
       "      <th>neg</th>\n",
       "      <th>neu</th>\n",
       "      <th>pos</th>\n",
       "      <th>compound</th>\n",
       "    </tr>\n",
       "  </thead>\n",
       "  <tbody>\n",
       "    <tr>\n",
       "      <th>0</th>\n",
       "      <td>0</td>\n",
       "      <td>1</td>\n",
       "      <td>How to Reach 100% Clean Energy By 2050?</td>\n",
       "      <td>1</td>\n",
       "      <td>eihfq4</td>\n",
       "      <td>SeekersThoughtsUP</td>\n",
       "      <td>0.000</td>\n",
       "      <td>0.459</td>\n",
       "      <td>0.541</td>\n",
       "      <td>0.5994</td>\n",
       "    </tr>\n",
       "    <tr>\n",
       "      <th>1</th>\n",
       "      <td>1</td>\n",
       "      <td>1</td>\n",
       "      <td>Prince William unveils 'Earthshot prize' to ta...</td>\n",
       "      <td>1</td>\n",
       "      <td>eihfqo</td>\n",
       "      <td>OldFashionedJizz</td>\n",
       "      <td>0.126</td>\n",
       "      <td>0.613</td>\n",
       "      <td>0.261</td>\n",
       "      <td>0.5267</td>\n",
       "    </tr>\n",
       "    <tr>\n",
       "      <th>2</th>\n",
       "      <td>2</td>\n",
       "      <td>1</td>\n",
       "      <td>How to talk to parents (late 60s / early 70s) ...</td>\n",
       "      <td>1</td>\n",
       "      <td>eijkdw</td>\n",
       "      <td>Hrafn2</td>\n",
       "      <td>0.000</td>\n",
       "      <td>1.000</td>\n",
       "      <td>0.000</td>\n",
       "      <td>0.0000</td>\n",
       "    </tr>\n",
       "    <tr>\n",
       "      <th>3</th>\n",
       "      <td>3</td>\n",
       "      <td>1</td>\n",
       "      <td>Shell made a film about climate change in 1991...</td>\n",
       "      <td>1</td>\n",
       "      <td>eijz9l</td>\n",
       "      <td>fungussa</td>\n",
       "      <td>0.195</td>\n",
       "      <td>0.805</td>\n",
       "      <td>0.000</td>\n",
       "      <td>-0.5267</td>\n",
       "    </tr>\n",
       "    <tr>\n",
       "      <th>4</th>\n",
       "      <td>4</td>\n",
       "      <td>1</td>\n",
       "      <td>Climate And Energy For Dummies</td>\n",
       "      <td>1</td>\n",
       "      <td>eik0hm</td>\n",
       "      <td>CommonEmployment</td>\n",
       "      <td>0.000</td>\n",
       "      <td>0.656</td>\n",
       "      <td>0.344</td>\n",
       "      <td>0.2732</td>\n",
       "    </tr>\n",
       "  </tbody>\n",
       "</table>\n",
       "</div>"
      ],
      "text/plain": [
       "   Unnamed: 0  subreddit                                              title  \\\n",
       "0           0          1            How to Reach 100% Clean Energy By 2050?   \n",
       "1           1          1  Prince William unveils 'Earthshot prize' to ta...   \n",
       "2           2          1  How to talk to parents (late 60s / early 70s) ...   \n",
       "3           3          1  Shell made a film about climate change in 1991...   \n",
       "4           4          1                     Climate And Energy For Dummies   \n",
       "\n",
       "   score      id             author    neg    neu    pos  compound  \n",
       "0      1  eihfq4  SeekersThoughtsUP  0.000  0.459  0.541    0.5994  \n",
       "1      1  eihfqo   OldFashionedJizz  0.126  0.613  0.261    0.5267  \n",
       "2      1  eijkdw             Hrafn2  0.000  1.000  0.000    0.0000  \n",
       "3      1  eijz9l           fungussa  0.195  0.805  0.000   -0.5267  \n",
       "4      1  eik0hm   CommonEmployment  0.000  0.656  0.344    0.2732  "
      ]
     },
     "execution_count": 300,
     "metadata": {},
     "output_type": "execute_result"
    }
   ],
   "source": [
    "sentiment_df.head()"
   ]
  },
  {
   "cell_type": "code",
   "execution_count": 315,
   "metadata": {},
   "outputs": [
    {
     "data": {
      "text/html": [
       "<div>\n",
       "<style scoped>\n",
       "    .dataframe tbody tr th:only-of-type {\n",
       "        vertical-align: middle;\n",
       "    }\n",
       "\n",
       "    .dataframe tbody tr th {\n",
       "        vertical-align: top;\n",
       "    }\n",
       "\n",
       "    .dataframe thead th {\n",
       "        text-align: right;\n",
       "    }\n",
       "</style>\n",
       "<table border=\"1\" class=\"dataframe\">\n",
       "  <thead>\n",
       "    <tr style=\"text-align: right;\">\n",
       "      <th></th>\n",
       "      <th>subreddit</th>\n",
       "      <th>title</th>\n",
       "      <th>score</th>\n",
       "      <th>id</th>\n",
       "      <th>author</th>\n",
       "      <th>neg</th>\n",
       "      <th>neu</th>\n",
       "      <th>pos</th>\n",
       "      <th>compound</th>\n",
       "    </tr>\n",
       "  </thead>\n",
       "  <tbody>\n",
       "    <tr>\n",
       "      <th>0</th>\n",
       "      <td>1</td>\n",
       "      <td>How to Reach 100% Clean Energy By 2050?</td>\n",
       "      <td>1</td>\n",
       "      <td>eihfq4</td>\n",
       "      <td>SeekersThoughtsUP</td>\n",
       "      <td>0.000</td>\n",
       "      <td>0.459</td>\n",
       "      <td>0.541</td>\n",
       "      <td>0.5994</td>\n",
       "    </tr>\n",
       "    <tr>\n",
       "      <th>1</th>\n",
       "      <td>1</td>\n",
       "      <td>Prince William unveils 'Earthshot prize' to ta...</td>\n",
       "      <td>1</td>\n",
       "      <td>eihfqo</td>\n",
       "      <td>OldFashionedJizz</td>\n",
       "      <td>0.126</td>\n",
       "      <td>0.613</td>\n",
       "      <td>0.261</td>\n",
       "      <td>0.5267</td>\n",
       "    </tr>\n",
       "    <tr>\n",
       "      <th>2</th>\n",
       "      <td>1</td>\n",
       "      <td>How to talk to parents (late 60s / early 70s) ...</td>\n",
       "      <td>1</td>\n",
       "      <td>eijkdw</td>\n",
       "      <td>Hrafn2</td>\n",
       "      <td>0.000</td>\n",
       "      <td>1.000</td>\n",
       "      <td>0.000</td>\n",
       "      <td>0.0000</td>\n",
       "    </tr>\n",
       "    <tr>\n",
       "      <th>3</th>\n",
       "      <td>1</td>\n",
       "      <td>Shell made a film about climate change in 1991...</td>\n",
       "      <td>1</td>\n",
       "      <td>eijz9l</td>\n",
       "      <td>fungussa</td>\n",
       "      <td>0.195</td>\n",
       "      <td>0.805</td>\n",
       "      <td>0.000</td>\n",
       "      <td>-0.5267</td>\n",
       "    </tr>\n",
       "    <tr>\n",
       "      <th>4</th>\n",
       "      <td>1</td>\n",
       "      <td>Climate And Energy For Dummies</td>\n",
       "      <td>1</td>\n",
       "      <td>eik0hm</td>\n",
       "      <td>CommonEmployment</td>\n",
       "      <td>0.000</td>\n",
       "      <td>0.656</td>\n",
       "      <td>0.344</td>\n",
       "      <td>0.2732</td>\n",
       "    </tr>\n",
       "  </tbody>\n",
       "</table>\n",
       "</div>"
      ],
      "text/plain": [
       "   subreddit                                              title  score  \\\n",
       "0          1            How to Reach 100% Clean Energy By 2050?      1   \n",
       "1          1  Prince William unveils 'Earthshot prize' to ta...      1   \n",
       "2          1  How to talk to parents (late 60s / early 70s) ...      1   \n",
       "3          1  Shell made a film about climate change in 1991...      1   \n",
       "4          1                     Climate And Energy For Dummies      1   \n",
       "\n",
       "       id             author    neg    neu    pos  compound  \n",
       "0  eihfq4  SeekersThoughtsUP  0.000  0.459  0.541    0.5994  \n",
       "1  eihfqo   OldFashionedJizz  0.126  0.613  0.261    0.5267  \n",
       "2  eijkdw             Hrafn2  0.000  1.000  0.000    0.0000  \n",
       "3  eijz9l           fungussa  0.195  0.805  0.000   -0.5267  \n",
       "4  eik0hm   CommonEmployment  0.000  0.656  0.344    0.2732  "
      ]
     },
     "execution_count": 315,
     "metadata": {},
     "output_type": "execute_result"
    }
   ],
   "source": [
    "sentiment_df.drop(columns='Unnamed: 0').head()"
   ]
  },
  {
   "cell_type": "markdown",
   "metadata": {},
   "source": [
    "#### To select sentiment of energy posts, let's create a unique dataframe"
   ]
  },
  {
   "cell_type": "code",
   "execution_count": 302,
   "metadata": {},
   "outputs": [],
   "source": [
    "energy_sentiment = sentiment_df.loc[sentiment_df['subreddit'] == 0].sort_values(by='compound')"
   ]
  },
  {
   "cell_type": "code",
   "execution_count": 304,
   "metadata": {},
   "outputs": [],
   "source": [
    "max_energy_sentiment = pd.DataFrame(energy_sentiment, columns = ['pos', 'neg', 'neu'])"
   ]
  },
  {
   "cell_type": "markdown",
   "metadata": {},
   "source": [
    "#### For each row, we want to know the max sentiment score between positive, negative, and neutral language"
   ]
  },
  {
   "cell_type": "code",
   "execution_count": 305,
   "metadata": {},
   "outputs": [],
   "source": [
    "# https://stackoverflow.com/questions/12169170/find-the-max-of-two-or-more-columns-with-pandas\n",
    "max_energy_sentiment = max_energy_sentiment.idxmax(axis = 1)"
   ]
  },
  {
   "cell_type": "code",
   "execution_count": 306,
   "metadata": {},
   "outputs": [
    {
     "data": {
      "text/plain": [
       "1581    neu\n",
       "1591    neg\n",
       "1647    neg\n",
       "2317    neu\n",
       "2204    neu\n",
       "       ... \n",
       "2265    neu\n",
       "1580    pos\n",
       "2164    neu\n",
       "2151    neu\n",
       "1307    neu\n",
       "Length: 1200, dtype: object"
      ]
     },
     "execution_count": 306,
     "metadata": {},
     "output_type": "execute_result"
    }
   ],
   "source": [
    "max_energy_sentiment"
   ]
  },
  {
   "cell_type": "markdown",
   "metadata": {},
   "source": [
    "#### Below, we can see that neutral posts make up the vast majority of posts. This is likely due to many of the posts being shared news headlines, which tend to lack bombastic opinion verbaige."
   ]
  },
  {
   "cell_type": "code",
   "execution_count": 307,
   "metadata": {},
   "outputs": [
    {
     "data": {
      "text/plain": [
       "neu    1156\n",
       "pos      30\n",
       "neg      14\n",
       "dtype: int64"
      ]
     },
     "execution_count": 307,
     "metadata": {},
     "output_type": "execute_result"
    }
   ],
   "source": [
    "max_energy_sentiment.value_counts()"
   ]
  },
  {
   "cell_type": "code",
   "execution_count": 308,
   "metadata": {},
   "outputs": [],
   "source": [
    "max_energy_sentiment = pd.DataFrame(max_energy_sentiment)"
   ]
  },
  {
   "cell_type": "code",
   "execution_count": 312,
   "metadata": {},
   "outputs": [
    {
     "data": {
      "text/plain": [
       "neu    0.963333\n",
       "pos    0.025000\n",
       "neg    0.011667\n",
       "dtype: float64"
      ]
     },
     "execution_count": 312,
     "metadata": {},
     "output_type": "execute_result"
    }
   ],
   "source": [
    "max_energy_sentiment.value_counts(normalize=True)"
   ]
  },
  {
   "cell_type": "markdown",
   "metadata": {},
   "source": [
    "#### The below histogram better illustrates the dominance of neutral language on the energy subreddit."
   ]
  },
  {
   "cell_type": "code",
   "execution_count": 328,
   "metadata": {},
   "outputs": [
    {
     "data": {
      "image/png": "[encoded data removed]",
      "text/plain": [
       "<Figure size 576x432 with 1 Axes>"
      ]
     },
     "metadata": {
      "needs_background": "light"
     },
     "output_type": "display_data"
    }
   ],
   "source": [
    "plt.figure(figsize=(8,6))\n",
    "\n",
    "\n",
    "plt.hist(max_energy_sentiment[0], color = 'dodgerblue');\n",
    "plt.title('Energy Subreddit Sentiment', fontsize=18);\n",
    "plt.xticks(fontsize=14);\n",
    "plt.yticks(fontsize=14);"
   ]
  },
  {
   "cell_type": "markdown",
   "metadata": {},
   "source": [
    "#### Now let's take a look at sentiment within the climate subreddit"
   ]
  },
  {
   "cell_type": "code",
   "execution_count": 229,
   "metadata": {},
   "outputs": [],
   "source": [
    "climate_sentiment = sentiment_df.loc[sentiment_df['subreddit'] == 1].sort_values(by='compound')"
   ]
  },
  {
   "cell_type": "code",
   "execution_count": 285,
   "metadata": {},
   "outputs": [],
   "source": [
    "max_climate_sentiment = pd.DataFrame(climate_sentiment, columns = ['pos', 'neg', 'neu'])"
   ]
  },
  {
   "cell_type": "markdown",
   "metadata": {},
   "source": [
    "#### Following a similar workflow as above, we will find the max sentiment by row between positive, negative, and neutral verbiage."
   ]
  },
  {
   "cell_type": "code",
   "execution_count": 286,
   "metadata": {},
   "outputs": [],
   "source": [
    "# https://stackoverflow.com/questions/12169170/find-the-max-of-two-or-more-columns-with-pandas\n",
    "max_climate_sentiment = max_climate_sentiment.idxmax(axis = 1)"
   ]
  },
  {
   "cell_type": "code",
   "execution_count": 332,
   "metadata": {},
   "outputs": [
    {
     "data": {
      "text/html": [
       "<div>\n",
       "<style scoped>\n",
       "    .dataframe tbody tr th:only-of-type {\n",
       "        vertical-align: middle;\n",
       "    }\n",
       "\n",
       "    .dataframe tbody tr th {\n",
       "        vertical-align: top;\n",
       "    }\n",
       "\n",
       "    .dataframe thead th {\n",
       "        text-align: right;\n",
       "    }\n",
       "</style>\n",
       "<table border=\"1\" class=\"dataframe\">\n",
       "  <thead>\n",
       "    <tr style=\"text-align: right;\">\n",
       "      <th></th>\n",
       "      <th>0</th>\n",
       "    </tr>\n",
       "  </thead>\n",
       "  <tbody>\n",
       "    <tr>\n",
       "      <th>758</th>\n",
       "      <td>neu</td>\n",
       "    </tr>\n",
       "    <tr>\n",
       "      <th>6</th>\n",
       "      <td>neu</td>\n",
       "    </tr>\n",
       "    <tr>\n",
       "      <th>188</th>\n",
       "      <td>neu</td>\n",
       "    </tr>\n",
       "    <tr>\n",
       "      <th>345</th>\n",
       "      <td>neg</td>\n",
       "    </tr>\n",
       "    <tr>\n",
       "      <th>1146</th>\n",
       "      <td>neg</td>\n",
       "    </tr>\n",
       "    <tr>\n",
       "      <th>...</th>\n",
       "      <td>...</td>\n",
       "    </tr>\n",
       "    <tr>\n",
       "      <th>1143</th>\n",
       "      <td>neu</td>\n",
       "    </tr>\n",
       "    <tr>\n",
       "      <th>284</th>\n",
       "      <td>neu</td>\n",
       "    </tr>\n",
       "    <tr>\n",
       "      <th>872</th>\n",
       "      <td>neu</td>\n",
       "    </tr>\n",
       "    <tr>\n",
       "      <th>684</th>\n",
       "      <td>neu</td>\n",
       "    </tr>\n",
       "    <tr>\n",
       "      <th>681</th>\n",
       "      <td>neu</td>\n",
       "    </tr>\n",
       "  </tbody>\n",
       "</table>\n",
       "<p>1200 rows × 1 columns</p>\n",
       "</div>"
      ],
      "text/plain": [
       "        0\n",
       "758   neu\n",
       "6     neu\n",
       "188   neu\n",
       "345   neg\n",
       "1146  neg\n",
       "...   ...\n",
       "1143  neu\n",
       "284   neu\n",
       "872   neu\n",
       "684   neu\n",
       "681   neu\n",
       "\n",
       "[1200 rows x 1 columns]"
      ]
     },
     "execution_count": 332,
     "metadata": {},
     "output_type": "execute_result"
    }
   ],
   "source": [
    "max_climate_sentiment"
   ]
  },
  {
   "cell_type": "markdown",
   "metadata": {},
   "source": [
    "#### Below, we can see a similar trend as with the energy subreddit. Neutral language domiantes."
   ]
  },
  {
   "cell_type": "code",
   "execution_count": 288,
   "metadata": {},
   "outputs": [
    {
     "data": {
      "text/plain": [
       "neu    1162\n",
       "neg      19\n",
       "pos      19\n",
       "dtype: int64"
      ]
     },
     "execution_count": 288,
     "metadata": {},
     "output_type": "execute_result"
    }
   ],
   "source": [
    "max_climate_sentiment.value_counts()"
   ]
  },
  {
   "cell_type": "code",
   "execution_count": 289,
   "metadata": {},
   "outputs": [],
   "source": [
    "max_climate_sentiment = pd.DataFrame(max_climate_sentiment)"
   ]
  },
  {
   "cell_type": "code",
   "execution_count": 327,
   "metadata": {},
   "outputs": [
    {
     "data": {
      "image/png": "[encoded data removed]",
      "text/plain": [
       "<Figure size 576x432 with 1 Axes>"
      ]
     },
     "metadata": {
      "needs_background": "light"
     },
     "output_type": "display_data"
    }
   ],
   "source": [
    "plt.figure(figsize=(8,6))\n",
    "\n",
    "\n",
    "plt.hist(max_climate_sentiment[0], color ='green');\n",
    "plt.title('Climate Subreddit Sentiment', fontsize=18);\n",
    "plt.xticks(fontsize=14);\n",
    "plt.yticks(fontsize=14);"
   ]
  },
  {
   "cell_type": "code",
   "execution_count": 314,
   "metadata": {},
   "outputs": [
    {
     "data": {
      "text/plain": [
       "neu    0.968333\n",
       "pos    0.015833\n",
       "neg    0.015833\n",
       "dtype: float64"
      ]
     },
     "execution_count": 314,
     "metadata": {},
     "output_type": "execute_result"
    }
   ],
   "source": [
    "max_climate_sentiment.value_counts(normalize=True)"
   ]
  },
  {
   "cell_type": "markdown",
   "metadata": {},
   "source": [
    "# Classification Modeling"
   ]
  },
  {
   "cell_type": "code",
   "execution_count": 331,
   "metadata": {},
   "outputs": [],
   "source": [
    "#### Below are six models tasked with classifying our climate and energy subreddits. We will use a combination of transformers (CountVectorizer, TF-IDF Vectorizer) and estimators (Logistic Regression, K-Nearest Neighbor, Multinomial Naive Bayes, and Random Forest) to best classify the text from our posts."
   ]
  },
  {
   "cell_type": "markdown",
   "metadata": {},
   "source": [
    "### Define our X & y"
   ]
  },
  {
   "cell_type": "code",
   "execution_count": 333,
   "metadata": {},
   "outputs": [],
   "source": [
    "X = reddit['title']\n",
    "y= reddit['subreddit']"
   ]
  },
  {
   "cell_type": "code",
   "execution_count": 334,
   "metadata": {},
   "outputs": [
    {
     "data": {
      "text/plain": [
       "1    0.5\n",
       "0    0.5\n",
       "Name: subreddit, dtype: float64"
      ]
     },
     "execution_count": 334,
     "metadata": {},
     "output_type": "execute_result"
    }
   ],
   "source": [
    "y.value_counts(normalize = True)"
   ]
  },
  {
   "cell_type": "markdown",
   "metadata": {},
   "source": [
    "### Split the data into training and testing"
   ]
  },
  {
   "cell_type": "code",
   "execution_count": 335,
   "metadata": {},
   "outputs": [],
   "source": [
    "X_train, X_test, y_train, y_test = train_test_split(X, y, random_state = 42)"
   ]
  },
  {
   "cell_type": "markdown",
   "metadata": {},
   "source": [
    "#### Establish baseline accuracy"
   ]
  },
  {
   "cell_type": "code",
   "execution_count": 337,
   "metadata": {},
   "outputs": [
    {
     "data": {
      "text/plain": [
       "1    0.505\n",
       "0    0.495\n",
       "Name: subreddit, dtype: float64"
      ]
     },
     "execution_count": 337,
     "metadata": {},
     "output_type": "execute_result"
    }
   ],
   "source": [
    "y_test.value_counts(normalize=True)"
   ]
  },
  {
   "cell_type": "markdown",
   "metadata": {},
   "source": [
    "### Instantiate a CountVectorizer with the default hyperparameters"
   ]
  },
  {
   "cell_type": "markdown",
   "metadata": {},
   "source": [
    "Before instantiating CountVectorizer, let's create a custom stop_words based on our EDA. This will remove 'energy', 'climate', and 'change' from our corpus."
   ]
  },
  {
   "cell_type": "code",
   "execution_count": 36,
   "metadata": {},
   "outputs": [],
   "source": [
    "stops = ['climate', 'change', 'energy']"
   ]
  },
  {
   "cell_type": "code",
   "execution_count": 37,
   "metadata": {},
   "outputs": [],
   "source": [
    "# Credit to https://stackoverflow.com/questions/24386489/adding-words-to-scikit-learns-countvectorizers-stop-list\n",
    "stop_words = text.ENGLISH_STOP_WORDS.union(stops)\n"
   ]
  },
  {
   "cell_type": "code",
   "execution_count": 38,
   "metadata": {},
   "outputs": [],
   "source": [
    "cvec = CountVectorizer(stop_words = stop_words)"
   ]
  },
  {
   "cell_type": "markdown",
   "metadata": {},
   "source": [
    "### Fit the vectorizer on our corpus"
   ]
  },
  {
   "cell_type": "code",
   "execution_count": 39,
   "metadata": {},
   "outputs": [
    {
     "data": {
      "text/plain": [
       "CountVectorizer(stop_words=frozenset({'a', 'about', 'above', 'across', 'after',\n",
       "                                      'afterwards', 'again', 'against', 'all',\n",
       "                                      'almost', 'alone', 'along', 'already',\n",
       "                                      'also', 'although', 'always', 'am',\n",
       "                                      'among', 'amongst', 'amoungst', 'amount',\n",
       "                                      'an', 'and', 'another', 'any', 'anyhow',\n",
       "                                      'anyone', 'anything', 'anyway',\n",
       "                                      'anywhere', ...}))"
      ]
     },
     "execution_count": 39,
     "metadata": {},
     "output_type": "execute_result"
    }
   ],
   "source": [
    "cvec.fit(X_train)"
   ]
  },
  {
   "cell_type": "markdown",
   "metadata": {},
   "source": [
    "### Transform the corpus\n",
    "First let's transform X_train"
   ]
  },
  {
   "cell_type": "code",
   "execution_count": 40,
   "metadata": {},
   "outputs": [],
   "source": [
    "X_train = cvec.transform(X_train)"
   ]
  },
  {
   "cell_type": "code",
   "execution_count": 41,
   "metadata": {},
   "outputs": [
    {
     "data": {
      "text/plain": [
       "<1800x5434 sparse matrix of type '<class 'numpy.int64'>'\n",
       "\twith 16726 stored elements in Compressed Sparse Row format>"
      ]
     },
     "execution_count": 41,
     "metadata": {},
     "output_type": "execute_result"
    }
   ],
   "source": [
    "X_train"
   ]
  },
  {
   "cell_type": "code",
   "execution_count": 42,
   "metadata": {},
   "outputs": [
    {
     "data": {
      "text/plain": [
       "(1800, 5434)"
      ]
     },
     "execution_count": 42,
     "metadata": {},
     "output_type": "execute_result"
    }
   ],
   "source": [
    "X_train.shape"
   ]
  },
  {
   "cell_type": "markdown",
   "metadata": {},
   "source": [
    "Now transform X_test"
   ]
  },
  {
   "cell_type": "code",
   "execution_count": 43,
   "metadata": {},
   "outputs": [],
   "source": [
    "X_test = cvec.transform(X_test)"
   ]
  },
  {
   "cell_type": "markdown",
   "metadata": {},
   "source": [
    "### With our data transformed, let's evaluate a simple logistic regression model"
   ]
  },
  {
   "cell_type": "code",
   "execution_count": 44,
   "metadata": {},
   "outputs": [],
   "source": [
    " # Instantiate the model\n",
    "logreg = LogisticRegression()"
   ]
  },
  {
   "cell_type": "code",
   "execution_count": 45,
   "metadata": {},
   "outputs": [
    {
     "data": {
      "text/plain": [
       "LogisticRegression()"
      ]
     },
     "execution_count": 45,
     "metadata": {},
     "output_type": "execute_result"
    }
   ],
   "source": [
    "# Fit our model\n",
    "logreg.fit(X_train, y_train)"
   ]
  },
  {
   "cell_type": "code",
   "execution_count": 46,
   "metadata": {},
   "outputs": [
    {
     "data": {
      "text/plain": [
       "array([0, 0, 1, 0, 0, 1, 1, 1, 0, 1])"
      ]
     },
     "execution_count": 46,
     "metadata": {},
     "output_type": "execute_result"
    }
   ],
   "source": [
    "# Generate predicted values\n",
    "logreg.predict(X_test)[:10]"
   ]
  },
  {
   "cell_type": "code",
   "execution_count": 47,
   "metadata": {},
   "outputs": [
    {
     "name": "stdout",
     "output_type": "stream",
     "text": [
      "The training score of our logistic regression model is: 0.9644444444444444\n",
      "The testing score of our logistic regression model is: 0.7766666666666666\n"
     ]
    }
   ],
   "source": [
    "# Evaluate our model\n",
    "print(f\"The training score of our logistic regression model is: {logreg.score(X_train, y_train)}\")\n",
    "print(f\"The testing score of our logistic regression model is: {logreg.score(X_test, y_test)}\")"
   ]
  },
  {
   "cell_type": "markdown",
   "metadata": {},
   "source": [
    "Above, we can see our model is very overfit based on the large delta between our training and testing scores. Let's incorporate a pipeline and gridsearch to better optimize our model hyperparameters."
   ]
  },
  {
   "cell_type": "markdown",
   "metadata": {},
   "source": [
    "## Model 1 - CVEC & Logistic Regression"
   ]
  },
  {
   "cell_type": "code",
   "execution_count": 343,
   "metadata": {},
   "outputs": [],
   "source": [
    "# Redefine training and testing\n",
    "# Redefine training and testing sets.\n",
    "X_train, X_test, y_train, y_test = train_test_split(X,\n",
    "                                                    y,\n",
    "                                                    stratify=y,\n",
    "                                                    random_state=42)"
   ]
  },
  {
   "cell_type": "code",
   "execution_count": 344,
   "metadata": {},
   "outputs": [],
   "source": [
    "pipe_1 = Pipeline([\n",
    "    ('cvec_1', CountVectorizer()),\n",
    "    ('logreg_1', LogisticRegression())\n",
    "])"
   ]
  },
  {
   "cell_type": "code",
   "execution_count": 347,
   "metadata": {},
   "outputs": [
    {
     "data": {
      "text/plain": [
       "0.8116666666666665"
      ]
     },
     "execution_count": 347,
     "metadata": {},
     "output_type": "execute_result"
    }
   ],
   "source": [
    "#Estimate how your model will perform on unseen data\n",
    "cross_val_score(pipe_1, X_train, y_train, cv=3).mean() \n"
   ]
  },
  {
   "cell_type": "code",
   "execution_count": 349,
   "metadata": {},
   "outputs": [
    {
     "name": "stdout",
     "output_type": "stream",
     "text": [
      "The training score of our logistic regression model is: 0.9705555555555555\n",
      "The testing score of our logistic regression model is: 0.795\n"
     ]
    }
   ],
   "source": [
    "# Evaluate our model\n",
    "print(f\"The training score of our logistic regression model is: {pipe_1.score(X_train, y_train)}\")\n",
    "print(f\"The testing score of our logistic regression model is: {pipe_1.score(X_test, y_test)}\")"
   ]
  },
  {
   "cell_type": "markdown",
   "metadata": {},
   "source": [
    "### Let's load pipe_1 into the gridsearch"
   ]
  },
  {
   "cell_type": "code",
   "execution_count": 350,
   "metadata": {},
   "outputs": [],
   "source": [
    "# Search over the following values of hyperparameters:\n",
    "# Stopwords parameters include None and our custom list of english stop words + climate, change, and energy\n",
    "# Maximum number of features fit: 1000, 2000, 3000, 4000\n",
    "# Minimum number of documents needed to include token: 2, 3\n",
    "# Maximum number of documents needed to include token: 90%, 95%\n",
    "\n",
    "\n",
    "pipe_1_params = {\n",
    "    'cvec_1__stop_words': [stop_words, None],\n",
    "    'cvec_1__max_features': [1000, 2000, 3000, 4000, None],\n",
    "    'cvec_1__min_df': [2, 3],\n",
    "    'cvec_1__max_df': [.9, .95],\n",
    "}\n"
   ]
  },
  {
   "cell_type": "code",
   "execution_count": 351,
   "metadata": {},
   "outputs": [],
   "source": [
    "# Instantiate GridSearch\n",
    "gs_1 = GridSearchCV(pipe_1,\n",
    "                   param_grid = pipe_1_params,\n",
    "                   cv=5)"
   ]
  },
  {
   "cell_type": "code",
   "execution_count": 352,
   "metadata": {},
   "outputs": [
    {
     "data": {
      "text/plain": [
       "GridSearchCV(cv=5,\n",
       "             estimator=Pipeline(steps=[('cvec_1', CountVectorizer()),\n",
       "                                       ('logreg_1', LogisticRegression())]),\n",
       "             param_grid={'cvec_1__max_df': [0.9, 0.95],\n",
       "                         'cvec_1__max_features': [1000, 2000, 3000, 4000, None],\n",
       "                         'cvec_1__min_df': [2, 3],\n",
       "                         'cvec_1__stop_words': [frozenset({'a', 'about',\n",
       "                                                           'above', 'across',\n",
       "                                                           'after',\n",
       "                                                           'afterwards',\n",
       "                                                           'again', 'against',\n",
       "                                                           'all', 'almost',\n",
       "                                                           'alone', 'along',\n",
       "                                                           'already', 'also',\n",
       "                                                           'although', 'always',\n",
       "                                                           'am', 'among',\n",
       "                                                           'amongst',\n",
       "                                                           'amoungst', 'amount',\n",
       "                                                           'an', 'and',\n",
       "                                                           'another', 'any',\n",
       "                                                           'anyhow', 'anyone',\n",
       "                                                           'anything', 'anyway',\n",
       "                                                           'anywhere', ...}),\n",
       "                                                None]})"
      ]
     },
     "execution_count": 352,
     "metadata": {},
     "output_type": "execute_result"
    }
   ],
   "source": [
    "gs_1.fit(X_train, y_train)"
   ]
  },
  {
   "cell_type": "code",
   "execution_count": 353,
   "metadata": {},
   "outputs": [
    {
     "data": {
      "text/plain": [
       "{'cvec_1__max_df': 0.9,\n",
       " 'cvec_1__max_features': 3000,\n",
       " 'cvec_1__min_df': 2,\n",
       " 'cvec_1__stop_words': None}"
      ]
     },
     "execution_count": 353,
     "metadata": {},
     "output_type": "execute_result"
    }
   ],
   "source": [
    "gs_1.best_params_"
   ]
  },
  {
   "cell_type": "code",
   "execution_count": 354,
   "metadata": {},
   "outputs": [
    {
     "name": "stdout",
     "output_type": "stream",
     "text": [
      "0.8238888888888889\n"
     ]
    }
   ],
   "source": [
    "print(gs_1.best_score_)"
   ]
  },
  {
   "cell_type": "code",
   "execution_count": 391,
   "metadata": {},
   "outputs": [
    {
     "name": "stdout",
     "output_type": "stream",
     "text": [
      "Our training score is 0.9583333333333334\n",
      "Our testing score is 0.8016666666666666\n"
     ]
    }
   ],
   "source": [
    "print(f'Our training score is {gs_1.score(X_train, y_train)}')\n",
    "print(f'Our testing score is {gs_1.score(X_test, y_test)}')"
   ]
  },
  {
   "cell_type": "markdown",
   "metadata": {},
   "source": [
    "#### Above, we can see our model is quite overfit. Based on our testing scores, we can see that our model is 80% accurate."
   ]
  },
  {
   "cell_type": "code",
   "execution_count": 357,
   "metadata": {},
   "outputs": [],
   "source": [
    "# Get predictions\n",
    "preds_1 = gs_1.predict(X_test)\n",
    "\n",
    "# Save confusion matrix values\n",
    "tn, fp, fn, tp = confusion_matrix(y_test, preds_1).ravel()"
   ]
  },
  {
   "cell_type": "code",
   "execution_count": 434,
   "metadata": {},
   "outputs": [
    {
     "data": {
      "image/png": "[encoded data removed]",
      "text/plain": [
       "<Figure size 432x288 with 2 Axes>"
      ]
     },
     "metadata": {
      "needs_background": "light"
     },
     "output_type": "display_data"
    }
   ],
   "source": [
    "plot_confusion_matrix(gs_1, X_test, y_test, cmap='Blues', values_format='d');"
   ]
  },
  {
   "cell_type": "markdown",
   "metadata": {},
   "source": [
    "The above confusion matrix provides a visualization of our predictions versus the actual data."
   ]
  },
  {
   "cell_type": "markdown",
   "metadata": {},
   "source": [
    "## Model 2 - CVEC & KNN"
   ]
  },
  {
   "cell_type": "code",
   "execution_count": 420,
   "metadata": {},
   "outputs": [],
   "source": [
    "# Redefine training and testing\n",
    "# Redefine training and testing sets.\n",
    "X_train, X_test, y_train, y_test = train_test_split(X,\n",
    "                                                    y,\n",
    "                                                    stratify=y,\n",
    "                                                    random_state=42)"
   ]
  },
  {
   "cell_type": "code",
   "execution_count": 421,
   "metadata": {},
   "outputs": [],
   "source": [
    "pipe_2 = Pipeline([\n",
    "    ('cvec_2', CountVectorizer()),\n",
    "    ('knn_1', KNeighborsClassifier())\n",
    "])"
   ]
  },
  {
   "cell_type": "code",
   "execution_count": 422,
   "metadata": {},
   "outputs": [
    {
     "data": {
      "text/plain": [
       "Pipeline(steps=[('cvec_2', CountVectorizer()),\n",
       "                ('knn_1', KNeighborsClassifier())])"
      ]
     },
     "execution_count": 422,
     "metadata": {},
     "output_type": "execute_result"
    }
   ],
   "source": [
    "#Estimate how your model will perform on unseen data\n",
    "cross_val_score(pipe_2, X_train, y_train, cv=3).mean() \n",
    "\n",
    "# Fit your model\n",
    "pipe_2.fit(X_train, y_train)"
   ]
  },
  {
   "cell_type": "code",
   "execution_count": 423,
   "metadata": {},
   "outputs": [
    {
     "name": "stdout",
     "output_type": "stream",
     "text": [
      "The training score of our KNN model is: 0.8183333333333334\n",
      "The testing score of our KNN model is: 0.675\n"
     ]
    }
   ],
   "source": [
    "# Evaluate our model\n",
    "print(f\"The training score of our KNN model is: {pipe_2.score(X_train, y_train)}\")\n",
    "print(f\"The testing score of our KNN model is: {pipe_2.score(X_test, y_test)}\")"
   ]
  },
  {
   "cell_type": "markdown",
   "metadata": {},
   "source": [
    "#### Let's load pipe_2 into the gridsearch"
   ]
  },
  {
   "cell_type": "code",
   "execution_count": 424,
   "metadata": {},
   "outputs": [],
   "source": [
    "# Search over the following values of hyperparameters:\n",
    "# Stopwords parameters include None and our custom list of english stop words + climate, change, and energy\n",
    "# Maximum number of features fit: 1000, 2000, 3000, 4000\n",
    "# Minimum number of documents needed to include token: 2, 3\n",
    "# Maximum number of documents needed to include token: 90%, 95%\n",
    "\n",
    "\n",
    "pipe_2_params = {\n",
    "    'cvec_2__stop_words': [stop_words, stops, None],\n",
    "    'cvec_2__max_features': [1000, 2000, 3000, 4000],\n",
    "    'cvec_2__min_df': [2, 3],\n",
    "    'cvec_2__max_df': [.9, .95],\n",
    "    'knn_1__p': [1, 2],\n",
    "    'knn_1__weights': ['uniform', 'distance'],\n",
    "    'knn_1__n_neighbors': [3, 5, 10]\n",
    "}\n"
   ]
  },
  {
   "cell_type": "code",
   "execution_count": 425,
   "metadata": {},
   "outputs": [],
   "source": [
    "# Instantiate GridSearch\n",
    "gs_2 = GridSearchCV(pipe_2,\n",
    "                   pipe_2_params,\n",
    "                   cv=5)"
   ]
  },
  {
   "cell_type": "code",
   "execution_count": 426,
   "metadata": {},
   "outputs": [
    {
     "data": {
      "text/plain": [
       "GridSearchCV(cv=5,\n",
       "             estimator=Pipeline(steps=[('cvec_2', CountVectorizer()),\n",
       "                                       ('knn_1', KNeighborsClassifier())]),\n",
       "             param_grid={'cvec_2__max_df': [0.9, 0.95],\n",
       "                         'cvec_2__max_features': [1000, 2000, 3000, 4000],\n",
       "                         'cvec_2__min_df': [2, 3],\n",
       "                         'cvec_2__stop_words': [frozenset({'a', 'about',\n",
       "                                                           'above', 'across',\n",
       "                                                           'after',\n",
       "                                                           'afterwards',\n",
       "                                                           'again', 'against',\n",
       "                                                           'all', 'almost',\n",
       "                                                           'alone', 'along',\n",
       "                                                           'already', 'also',\n",
       "                                                           'although', 'always',\n",
       "                                                           'am', 'among',\n",
       "                                                           'amongst',\n",
       "                                                           'amoungst', 'amount',\n",
       "                                                           'an', 'and',\n",
       "                                                           'another', 'any',\n",
       "                                                           'anyhow', 'anyone',\n",
       "                                                           'anything', 'anyway',\n",
       "                                                           'anywhere', ...}),\n",
       "                                                ['climate', 'change', 'energy'],\n",
       "                                                None],\n",
       "                         'knn_1__n_neighbors': [3, 5, 10], 'knn_1__p': [1, 2],\n",
       "                         'knn_1__weights': ['uniform', 'distance']})"
      ]
     },
     "execution_count": 426,
     "metadata": {},
     "output_type": "execute_result"
    }
   ],
   "source": [
    "gs_2.fit(X_train, y_train)"
   ]
  },
  {
   "cell_type": "code",
   "execution_count": 427,
   "metadata": {},
   "outputs": [
    {
     "data": {
      "text/plain": [
       "{'cvec_2__max_df': 0.9,\n",
       " 'cvec_2__max_features': 2000,\n",
       " 'cvec_2__min_df': 2,\n",
       " 'cvec_2__stop_words': None,\n",
       " 'knn_1__n_neighbors': 10,\n",
       " 'knn_1__p': 2,\n",
       " 'knn_1__weights': 'distance'}"
      ]
     },
     "execution_count": 427,
     "metadata": {},
     "output_type": "execute_result"
    }
   ],
   "source": [
    "gs_2.best_params_"
   ]
  },
  {
   "cell_type": "code",
   "execution_count": 428,
   "metadata": {},
   "outputs": [
    {
     "name": "stdout",
     "output_type": "stream",
     "text": [
      "0.696111111111111\n"
     ]
    }
   ],
   "source": [
    "print(gs_2.best_score_)"
   ]
  },
  {
   "cell_type": "code",
   "execution_count": 433,
   "metadata": {},
   "outputs": [
    {
     "name": "stdout",
     "output_type": "stream",
     "text": [
      "Our training score is 0.9838888888888889\n",
      "Our testing score is 0.6816666666666666\n"
     ]
    }
   ],
   "source": [
    "print(f'Our training score is {gs_2.score(X_train, y_train)}')\n",
    "print(f'Our testing score is {gs_2.score(X_test, y_test)}')"
   ]
  },
  {
   "cell_type": "markdown",
   "metadata": {},
   "source": [
    "#### Based on the above scores, our model is very overefit. Additionally, the accuracy score of 68% implies this model is the least accurate in predicting which subreddit our text originates from."
   ]
  },
  {
   "cell_type": "code",
   "execution_count": 431,
   "metadata": {},
   "outputs": [],
   "source": [
    "# Get predictions\n",
    "preds_2 = gs_2.predict(X_test)\n",
    "\n",
    "# Save confusion matrix values\n",
    "tn, fp, fn, tp = confusion_matrix(y_test, preds_2).ravel()"
   ]
  },
  {
   "cell_type": "code",
   "execution_count": 432,
   "metadata": {},
   "outputs": [
    {
     "data": {
      "image/png": "[encoded data removed]",
      "text/plain": [
       "<Figure size 432x288 with 2 Axes>"
      ]
     },
     "metadata": {
      "needs_background": "light"
     },
     "output_type": "display_data"
    }
   ],
   "source": [
    "# visualize this\n",
    "\n",
    "plot_confusion_matrix(gs_2, X_test, y_test, cmap='Blues', values_format='d');"
   ]
  },
  {
   "cell_type": "markdown",
   "metadata": {},
   "source": [
    "## Model 3 - Tfidf & Logistic Regression"
   ]
  },
  {
   "cell_type": "code",
   "execution_count": 364,
   "metadata": {},
   "outputs": [],
   "source": [
    "# Redefine training and testing\n",
    "# Redefine training and testing sets.\n",
    "X_train, X_test, y_train, y_test = train_test_split(X,\n",
    "                                                    y,\n",
    "                                                    stratify=y,\n",
    "                                                    random_state=42)"
   ]
  },
  {
   "cell_type": "code",
   "execution_count": 365,
   "metadata": {},
   "outputs": [],
   "source": [
    "pipe_3 = Pipeline([\n",
    "    ('tvec_1', TfidfVectorizer()),\n",
    "    ('logreg_2', LogisticRegression())\n",
    "])"
   ]
  },
  {
   "cell_type": "code",
   "execution_count": 366,
   "metadata": {},
   "outputs": [
    {
     "data": {
      "text/plain": [
       "Pipeline(steps=[('tvec_1', TfidfVectorizer()),\n",
       "                ('logreg_2', LogisticRegression())])"
      ]
     },
     "execution_count": 366,
     "metadata": {},
     "output_type": "execute_result"
    }
   ],
   "source": [
    "#Estimate how your model will perform on unseen data\n",
    "cross_val_score(pipe_3, X_train, y_train, cv=3).mean() \n",
    "\n",
    "# Fit your model\n",
    "pipe_3.fit(X_train, y_train)"
   ]
  },
  {
   "cell_type": "code",
   "execution_count": 367,
   "metadata": {},
   "outputs": [
    {
     "name": "stdout",
     "output_type": "stream",
     "text": [
      "The training score of our logistic regression model is: 0.9338888888888889\n",
      "The testing score of our logistic regression model is: 0.845\n"
     ]
    }
   ],
   "source": [
    "# Evaluate our model\n",
    "print(f\"The training score of our logistic regression model is: {pipe_3.score(X_train, y_train)}\")\n",
    "print(f\"The testing score of our logistic regression model is: {pipe_3.score(X_test, y_test)}\")"
   ]
  },
  {
   "cell_type": "markdown",
   "metadata": {},
   "source": [
    "#### Let's load pipe_3 into the gridsearch"
   ]
  },
  {
   "cell_type": "code",
   "execution_count": 443,
   "metadata": {},
   "outputs": [],
   "source": [
    "# Search over the following values of hyperparameters:\n",
    "# Maximum number of features fit: 1000, 2000, 3000, 4000, and None\n",
    "# Minimum number of documents needed to include token: 2, 3\n",
    "# No stop words and stop_words list\n",
    "# Check (individual tokens) and also check (individual tokens and 2-grams).\n",
    "# Maximum number of documents needed to include token: 90%, 95%\n",
    "\n",
    "\n",
    "pipe_3_params = {\n",
    "    'tvec_1__stop_words': [stops, stop_words, None],\n",
    "    'tvec_1__max_features': [1000, 2000, 3000, 4000, None],\n",
    "    'tvec_1__min_df': [2, 3, 4],\n",
    "    'tvec_1__max_df': [.9, .95],\n",
    "    'tvec_1__ngram_range': [(1,1), (1,2)]\n",
    "}\n"
   ]
  },
  {
   "cell_type": "code",
   "execution_count": 444,
   "metadata": {},
   "outputs": [],
   "source": [
    "# Instantiate GridSearch\n",
    "gs_3 = GridSearchCV(pipe_3,\n",
    "                   pipe_3_params,\n",
    "                   cv=5)"
   ]
  },
  {
   "cell_type": "code",
   "execution_count": 445,
   "metadata": {},
   "outputs": [
    {
     "data": {
      "text/plain": [
       "GridSearchCV(cv=5,\n",
       "             estimator=Pipeline(steps=[('tvec_1', TfidfVectorizer()),\n",
       "                                       ('logreg_2', LogisticRegression())]),\n",
       "             param_grid={'tvec_1__max_df': [0.9, 0.95],\n",
       "                         'tvec_1__max_features': [1000, 2000, 3000, 4000, None],\n",
       "                         'tvec_1__min_df': [2, 3, 4],\n",
       "                         'tvec_1__ngram_range': [(1, 1), (1, 2)],\n",
       "                         'tvec_1__stop_words': [['climate', 'change', 'energy'],\n",
       "                                                frozenset({'a', 'about',\n",
       "                                                           'above', 'across',\n",
       "                                                           'after',\n",
       "                                                           'afterwards',\n",
       "                                                           'again', 'against',\n",
       "                                                           'all', 'almost',\n",
       "                                                           'alone', 'along',\n",
       "                                                           'already', 'also',\n",
       "                                                           'although', 'always',\n",
       "                                                           'am', 'among',\n",
       "                                                           'amongst',\n",
       "                                                           'amoungst', 'amount',\n",
       "                                                           'an', 'and',\n",
       "                                                           'another', 'any',\n",
       "                                                           'anyhow', 'anyone',\n",
       "                                                           'anything', 'anyway',\n",
       "                                                           'anywhere', ...}),\n",
       "                                                None]})"
      ]
     },
     "execution_count": 445,
     "metadata": {},
     "output_type": "execute_result"
    }
   ],
   "source": [
    "gs_3.fit(X_train, y_train)"
   ]
  },
  {
   "cell_type": "code",
   "execution_count": 446,
   "metadata": {},
   "outputs": [
    {
     "data": {
      "text/plain": [
       "{'tvec_1__max_df': 0.9,\n",
       " 'tvec_1__max_features': 2000,\n",
       " 'tvec_1__min_df': 3,\n",
       " 'tvec_1__ngram_range': (1, 1),\n",
       " 'tvec_1__stop_words': None}"
      ]
     },
     "execution_count": 446,
     "metadata": {},
     "output_type": "execute_result"
    }
   ],
   "source": [
    "gs_3.best_params_"
   ]
  },
  {
   "cell_type": "code",
   "execution_count": 439,
   "metadata": {},
   "outputs": [
    {
     "name": "stdout",
     "output_type": "stream",
     "text": [
      "0.8366666666666667\n"
     ]
    }
   ],
   "source": [
    "print(gs_3.best_score_)"
   ]
  },
  {
   "cell_type": "code",
   "execution_count": 440,
   "metadata": {},
   "outputs": [
    {
     "data": {
      "text/plain": [
       "0.915"
      ]
     },
     "execution_count": 440,
     "metadata": {},
     "output_type": "execute_result"
    }
   ],
   "source": [
    "gs_3.score(X_train, y_train)"
   ]
  },
  {
   "cell_type": "code",
   "execution_count": 441,
   "metadata": {},
   "outputs": [
    {
     "data": {
      "text/plain": [
       "0.8483333333333334"
      ]
     },
     "execution_count": 441,
     "metadata": {},
     "output_type": "execute_result"
    }
   ],
   "source": [
    "gs_3.score(X_test, y_test)"
   ]
  },
  {
   "cell_type": "code",
   "execution_count": 442,
   "metadata": {},
   "outputs": [
    {
     "name": "stdout",
     "output_type": "stream",
     "text": [
      "Our training score is 0.915\n",
      "Our testing score is 0.8483333333333334\n"
     ]
    }
   ],
   "source": [
    "print(f'Our training score is {gs_3.score(X_train, y_train)}')\n",
    "print(f'Our testing score is {gs_3.score(X_test, y_test)}')"
   ]
  },
  {
   "cell_type": "markdown",
   "metadata": {},
   "source": [
    "#### We can see above that our model is improving, but still overfit. This current model has an accuracy of 85%."
   ]
  },
  {
   "cell_type": "code",
   "execution_count": 377,
   "metadata": {},
   "outputs": [],
   "source": [
    "# Get predictions\n",
    "y_preds_3 = gs_3.predict(X_test)\n",
    "\n",
    "# Save confusion matrix values\n",
    "tn, fp, fn, tp = confusion_matrix(y_test, y_preds_3).ravel()"
   ]
  },
  {
   "cell_type": "code",
   "execution_count": 378,
   "metadata": {},
   "outputs": [
    {
     "data": {
      "image/png": "[encoded data removed]",
      "text/plain": [
       "<Figure size 432x288 with 2 Axes>"
      ]
     },
     "metadata": {
      "needs_background": "light"
     },
     "output_type": "display_data"
    }
   ],
   "source": [
    "# visualize this\n",
    "\n",
    "plot_confusion_matrix(gs_3, X_test, y_test, cmap='Blues', values_format='d');"
   ]
  },
  {
   "cell_type": "markdown",
   "metadata": {},
   "source": [
    "### Model 3 Feature Importance"
   ]
  },
  {
   "cell_type": "markdown",
   "metadata": {},
   "source": [
    "To better understand the major contributors toward our model's ability to predict the correct subreddit, let's identify the coefficients of our features."
   ]
  },
  {
   "cell_type": "code",
   "execution_count": 411,
   "metadata": {},
   "outputs": [],
   "source": [
    "# Workflow credited to - https://towardsdatascience.com/how-to-get-feature-importances-from-any-sklearn-pipeline-167a19f1214"
   ]
  },
  {
   "cell_type": "code",
   "execution_count": 393,
   "metadata": {},
   "outputs": [],
   "source": [
    "pipe_3_features = pipe_3.named_steps['tvec_1'].get_feature_names()"
   ]
  },
  {
   "cell_type": "code",
   "execution_count": 394,
   "metadata": {},
   "outputs": [],
   "source": [
    "pipe_3_coefs = pipe_3.named_steps['logreg_2'].coef_.flatten()"
   ]
  },
  {
   "cell_type": "code",
   "execution_count": 397,
   "metadata": {},
   "outputs": [],
   "source": [
    "pipe_3_zip = zip(pipe_3_features, pipe_3_coefs)"
   ]
  },
  {
   "cell_type": "code",
   "execution_count": 398,
   "metadata": {},
   "outputs": [],
   "source": [
    "pipe_3_df = pd.DataFrame(pipe_3_zip, columns = ['features', 'coefficients'])"
   ]
  },
  {
   "cell_type": "code",
   "execution_count": 399,
   "metadata": {},
   "outputs": [
    {
     "data": {
      "text/html": [
       "<div>\n",
       "<style scoped>\n",
       "    .dataframe tbody tr th:only-of-type {\n",
       "        vertical-align: middle;\n",
       "    }\n",
       "\n",
       "    .dataframe tbody tr th {\n",
       "        vertical-align: top;\n",
       "    }\n",
       "\n",
       "    .dataframe thead th {\n",
       "        text-align: right;\n",
       "    }\n",
       "</style>\n",
       "<table border=\"1\" class=\"dataframe\">\n",
       "  <thead>\n",
       "    <tr style=\"text-align: right;\">\n",
       "      <th></th>\n",
       "      <th>features</th>\n",
       "      <th>coefficients</th>\n",
       "    </tr>\n",
       "  </thead>\n",
       "  <tbody>\n",
       "    <tr>\n",
       "      <th>0</th>\n",
       "      <td>00</td>\n",
       "      <td>-0.078503</td>\n",
       "    </tr>\n",
       "    <tr>\n",
       "      <th>1</th>\n",
       "      <td>000</td>\n",
       "      <td>0.530620</td>\n",
       "    </tr>\n",
       "    <tr>\n",
       "      <th>2</th>\n",
       "      <td>01</td>\n",
       "      <td>-0.044130</td>\n",
       "    </tr>\n",
       "    <tr>\n",
       "      <th>3</th>\n",
       "      <td>02</td>\n",
       "      <td>0.139450</td>\n",
       "    </tr>\n",
       "    <tr>\n",
       "      <th>4</th>\n",
       "      <td>03</td>\n",
       "      <td>0.232133</td>\n",
       "    </tr>\n",
       "  </tbody>\n",
       "</table>\n",
       "</div>"
      ],
      "text/plain": [
       "  features  coefficients\n",
       "0       00     -0.078503\n",
       "1      000      0.530620\n",
       "2       01     -0.044130\n",
       "3       02      0.139450\n",
       "4       03      0.232133"
      ]
     },
     "execution_count": 399,
     "metadata": {},
     "output_type": "execute_result"
    }
   ],
   "source": [
    "pipe_3_df.head()"
   ]
  },
  {
   "cell_type": "code",
   "execution_count": 400,
   "metadata": {},
   "outputs": [],
   "source": [
    "pipe_3_df[\"abs_value\"] = pipe_3_df[\"coefficients\"].apply(lambda x: abs(x))"
   ]
  },
  {
   "cell_type": "code",
   "execution_count": 406,
   "metadata": {},
   "outputs": [],
   "source": [
    "pipe_3_df[\"colors\"] = pipe_3_df[\"coefficients\"].apply(lambda x: \"green\" if x > 0 else \"dodgerblue\")"
   ]
  },
  {
   "cell_type": "code",
   "execution_count": 407,
   "metadata": {},
   "outputs": [],
   "source": [
    "pipe_3_df = pipe_3_df.sort_values(\"abs_value\", ascending=False)"
   ]
  },
  {
   "cell_type": "code",
   "execution_count": 408,
   "metadata": {},
   "outputs": [
    {
     "data": {
      "text/html": [
       "<div>\n",
       "<style scoped>\n",
       "    .dataframe tbody tr th:only-of-type {\n",
       "        vertical-align: middle;\n",
       "    }\n",
       "\n",
       "    .dataframe tbody tr th {\n",
       "        vertical-align: top;\n",
       "    }\n",
       "\n",
       "    .dataframe thead th {\n",
       "        text-align: right;\n",
       "    }\n",
       "</style>\n",
       "<table border=\"1\" class=\"dataframe\">\n",
       "  <thead>\n",
       "    <tr style=\"text-align: right;\">\n",
       "      <th></th>\n",
       "      <th>features</th>\n",
       "      <th>coefficients</th>\n",
       "      <th>abs_value</th>\n",
       "      <th>colors</th>\n",
       "    </tr>\n",
       "  </thead>\n",
       "  <tbody>\n",
       "    <tr>\n",
       "      <th>1070</th>\n",
       "      <td>climate</td>\n",
       "      <td>7.078965</td>\n",
       "      <td>7.078965</td>\n",
       "      <td>green</td>\n",
       "    </tr>\n",
       "    <tr>\n",
       "      <th>2598</th>\n",
       "      <td>hydrogen</td>\n",
       "      <td>-3.502664</td>\n",
       "      <td>3.502664</td>\n",
       "      <td>dodgerblue</td>\n",
       "    </tr>\n",
       "    <tr>\n",
       "      <th>1820</th>\n",
       "      <td>energy</td>\n",
       "      <td>-3.398008</td>\n",
       "      <td>3.398008</td>\n",
       "      <td>dodgerblue</td>\n",
       "    </tr>\n",
       "    <tr>\n",
       "      <th>988</th>\n",
       "      <td>change</td>\n",
       "      <td>2.936023</td>\n",
       "      <td>2.936023</td>\n",
       "      <td>green</td>\n",
       "    </tr>\n",
       "    <tr>\n",
       "      <th>4731</th>\n",
       "      <td>solar</td>\n",
       "      <td>-2.836885</td>\n",
       "      <td>2.836885</td>\n",
       "      <td>dodgerblue</td>\n",
       "    </tr>\n",
       "    <tr>\n",
       "      <th>...</th>\n",
       "      <td>...</td>\n",
       "      <td>...</td>\n",
       "      <td>...</td>\n",
       "      <td>...</td>\n",
       "    </tr>\n",
       "    <tr>\n",
       "      <th>1240</th>\n",
       "      <td>contributing</td>\n",
       "      <td>0.000783</td>\n",
       "      <td>0.000783</td>\n",
       "      <td>green</td>\n",
       "    </tr>\n",
       "    <tr>\n",
       "      <th>1305</th>\n",
       "      <td>covid</td>\n",
       "      <td>0.000490</td>\n",
       "      <td>0.000490</td>\n",
       "      <td>green</td>\n",
       "    </tr>\n",
       "    <tr>\n",
       "      <th>4335</th>\n",
       "      <td>revolutionary</td>\n",
       "      <td>0.000247</td>\n",
       "      <td>0.000247</td>\n",
       "      <td>green</td>\n",
       "    </tr>\n",
       "    <tr>\n",
       "      <th>2710</th>\n",
       "      <td>information</td>\n",
       "      <td>0.000243</td>\n",
       "      <td>0.000243</td>\n",
       "      <td>green</td>\n",
       "    </tr>\n",
       "    <tr>\n",
       "      <th>2780</th>\n",
       "      <td>invest</td>\n",
       "      <td>-0.000229</td>\n",
       "      <td>0.000229</td>\n",
       "      <td>dodgerblue</td>\n",
       "    </tr>\n",
       "  </tbody>\n",
       "</table>\n",
       "<p>5694 rows × 4 columns</p>\n",
       "</div>"
      ],
      "text/plain": [
       "           features  coefficients  abs_value      colors\n",
       "1070        climate      7.078965   7.078965       green\n",
       "2598       hydrogen     -3.502664   3.502664  dodgerblue\n",
       "1820         energy     -3.398008   3.398008  dodgerblue\n",
       "988          change      2.936023   2.936023       green\n",
       "4731          solar     -2.836885   2.836885  dodgerblue\n",
       "...             ...           ...        ...         ...\n",
       "1240   contributing      0.000783   0.000783       green\n",
       "1305          covid      0.000490   0.000490       green\n",
       "4335  revolutionary      0.000247   0.000247       green\n",
       "2710    information      0.000243   0.000243       green\n",
       "2780         invest     -0.000229   0.000229  dodgerblue\n",
       "\n",
       "[5694 rows x 4 columns]"
      ]
     },
     "execution_count": 408,
     "metadata": {},
     "output_type": "execute_result"
    }
   ],
   "source": [
    "pipe_3_df"
   ]
  },
  {
   "cell_type": "code",
   "execution_count": 409,
   "metadata": {},
   "outputs": [
    {
     "data": {
      "text/plain": [
       "Text(0.5, 0, 'Feature Name')"
      ]
     },
     "execution_count": 409,
     "metadata": {},
     "output_type": "execute_result"
    },
    {
     "data": {
      "image/png": "[encoded data removed]",
      "text/plain": [
       "<Figure size 1296x720 with 1 Axes>"
      ]
     },
     "metadata": {
      "needs_background": "light"
     },
     "output_type": "display_data"
    }
   ],
   "source": [
    "fig, ax = plt.subplots(1, 1, figsize=(18, 10))\n",
    "sns.barplot(x='features',\n",
    "            y='coefficients',\n",
    "            data=pipe_3_df.head(50),\n",
    "           palette=pipe_3_df.head(50)[\"colors\"])\n",
    "ax.set_xticklabels(ax.get_xticklabels(), rotation=90, fontsize=20)\n",
    "ax.set_title(\"Top 30 Features\", fontsize=25)\n",
    "ax.set_ylabel(\"Coef\", fontsize=22)\n",
    "ax.set_xlabel(\"Feature Name\", fontsize=22)"
   ]
  },
  {
   "cell_type": "code",
   "execution_count": 416,
   "metadata": {},
   "outputs": [
    {
     "data": {
      "text/plain": [
       "array([1])"
      ]
     },
     "execution_count": 416,
     "metadata": {},
     "output_type": "execute_result"
    }
   ],
   "source": [
    "gs_3.predict(['coal is good for the environment'])"
   ]
  },
  {
   "cell_type": "markdown",
   "metadata": {},
   "source": [
    "Above, we can see the top 30 features contributing towards our model's ability to predict a given subreddit. Climate itself has the greatest coefficient, which is not particularly suprising. While this feature has the highest absolute value of all features, we can see that features predicting energy dominate nine of the next ten most influential features."
   ]
  },
  {
   "cell_type": "markdown",
   "metadata": {},
   "source": [
    "### Model 3 Misclassifiation"
   ]
  },
  {
   "cell_type": "markdown",
   "metadata": {},
   "source": [
    "Let's first combine our target column with our predictions.\n",
    "\n",
    "Credit for collaboration on this process is attributed to Alec Edgecliffe-Johnson. We also found inspiration from Caroline Schmitt's lesson code."
   ]
  },
  {
   "cell_type": "code",
   "execution_count": 104,
   "metadata": {},
   "outputs": [],
   "source": [
    "y_test_np = np.asarray(y_test)"
   ]
  },
  {
   "cell_type": "code",
   "execution_count": 116,
   "metadata": {},
   "outputs": [],
   "source": [
    "y_test_df = pd.DataFrame(y_test).copy()"
   ]
  },
  {
   "cell_type": "code",
   "execution_count": 117,
   "metadata": {},
   "outputs": [],
   "source": [
    "X_test_df = pd.DataFrame(X_test).copy()"
   ]
  },
  {
   "cell_type": "code",
   "execution_count": 118,
   "metadata": {},
   "outputs": [],
   "source": [
    "y_test_df['preds'] = y_preds_3"
   ]
  },
  {
   "cell_type": "code",
   "execution_count": 119,
   "metadata": {},
   "outputs": [
    {
     "data": {
      "text/html": [
       "<div>\n",
       "<style scoped>\n",
       "    .dataframe tbody tr th:only-of-type {\n",
       "        vertical-align: middle;\n",
       "    }\n",
       "\n",
       "    .dataframe tbody tr th {\n",
       "        vertical-align: top;\n",
       "    }\n",
       "\n",
       "    .dataframe thead th {\n",
       "        text-align: right;\n",
       "    }\n",
       "</style>\n",
       "<table border=\"1\" class=\"dataframe\">\n",
       "  <thead>\n",
       "    <tr style=\"text-align: right;\">\n",
       "      <th></th>\n",
       "      <th>subreddit</th>\n",
       "      <th>preds</th>\n",
       "    </tr>\n",
       "  </thead>\n",
       "  <tbody>\n",
       "    <tr>\n",
       "      <th>469</th>\n",
       "      <td>0</td>\n",
       "      <td>0</td>\n",
       "    </tr>\n",
       "    <tr>\n",
       "      <th>812</th>\n",
       "      <td>1</td>\n",
       "      <td>0</td>\n",
       "    </tr>\n",
       "    <tr>\n",
       "      <th>520</th>\n",
       "      <td>1</td>\n",
       "      <td>1</td>\n",
       "    </tr>\n",
       "    <tr>\n",
       "      <th>888</th>\n",
       "      <td>1</td>\n",
       "      <td>0</td>\n",
       "    </tr>\n",
       "    <tr>\n",
       "      <th>1149</th>\n",
       "      <td>1</td>\n",
       "      <td>0</td>\n",
       "    </tr>\n",
       "    <tr>\n",
       "      <th>...</th>\n",
       "      <td>...</td>\n",
       "      <td>...</td>\n",
       "    </tr>\n",
       "    <tr>\n",
       "      <th>415</th>\n",
       "      <td>1</td>\n",
       "      <td>1</td>\n",
       "    </tr>\n",
       "    <tr>\n",
       "      <th>1111</th>\n",
       "      <td>1</td>\n",
       "      <td>0</td>\n",
       "    </tr>\n",
       "    <tr>\n",
       "      <th>779</th>\n",
       "      <td>0</td>\n",
       "      <td>0</td>\n",
       "    </tr>\n",
       "    <tr>\n",
       "      <th>187</th>\n",
       "      <td>1</td>\n",
       "      <td>1</td>\n",
       "    </tr>\n",
       "    <tr>\n",
       "      <th>107</th>\n",
       "      <td>1</td>\n",
       "      <td>1</td>\n",
       "    </tr>\n",
       "  </tbody>\n",
       "</table>\n",
       "<p>600 rows × 2 columns</p>\n",
       "</div>"
      ],
      "text/plain": [
       "      subreddit  preds\n",
       "469           0      0\n",
       "812           1      0\n",
       "520           1      1\n",
       "888           1      0\n",
       "1149          1      0\n",
       "...         ...    ...\n",
       "415           1      1\n",
       "1111          1      0\n",
       "779           0      0\n",
       "187           1      1\n",
       "107           1      1\n",
       "\n",
       "[600 rows x 2 columns]"
      ]
     },
     "execution_count": 119,
     "metadata": {},
     "output_type": "execute_result"
    }
   ],
   "source": [
    "y_test_df"
   ]
  },
  {
   "cell_type": "markdown",
   "metadata": {},
   "source": [
    "Now, we can combine our target column, predictions, and the contents of their associated posts."
   ]
  },
  {
   "cell_type": "code",
   "execution_count": 122,
   "metadata": {},
   "outputs": [],
   "source": [
    "new_df = pd.concat([X_test_df, y_test_df], axis =1)"
   ]
  },
  {
   "cell_type": "code",
   "execution_count": 123,
   "metadata": {},
   "outputs": [
    {
     "data": {
      "text/html": [
       "<div>\n",
       "<style scoped>\n",
       "    .dataframe tbody tr th:only-of-type {\n",
       "        vertical-align: middle;\n",
       "    }\n",
       "\n",
       "    .dataframe tbody tr th {\n",
       "        vertical-align: top;\n",
       "    }\n",
       "\n",
       "    .dataframe thead th {\n",
       "        text-align: right;\n",
       "    }\n",
       "</style>\n",
       "<table border=\"1\" class=\"dataframe\">\n",
       "  <thead>\n",
       "    <tr style=\"text-align: right;\">\n",
       "      <th></th>\n",
       "      <th>title</th>\n",
       "      <th>subreddit</th>\n",
       "      <th>preds</th>\n",
       "    </tr>\n",
       "  </thead>\n",
       "  <tbody>\n",
       "    <tr>\n",
       "      <th>469</th>\n",
       "      <td>Meet the New Flack for Oil and Gas: Michael Moore</td>\n",
       "      <td>0</td>\n",
       "      <td>0</td>\n",
       "    </tr>\n",
       "    <tr>\n",
       "      <th>812</th>\n",
       "      <td>Groups pressure Biden to exclude fossil fuel e...</td>\n",
       "      <td>1</td>\n",
       "      <td>0</td>\n",
       "    </tr>\n",
       "    <tr>\n",
       "      <th>520</th>\n",
       "      <td>Science denialism: How Climate Change paved th...</td>\n",
       "      <td>1</td>\n",
       "      <td>1</td>\n",
       "    </tr>\n",
       "    <tr>\n",
       "      <th>888</th>\n",
       "      <td>When Elephants Attack</td>\n",
       "      <td>1</td>\n",
       "      <td>0</td>\n",
       "    </tr>\n",
       "    <tr>\n",
       "      <th>1149</th>\n",
       "      <td>Virtual sports on Wazobet | Virtual Greyhounds...</td>\n",
       "      <td>1</td>\n",
       "      <td>0</td>\n",
       "    </tr>\n",
       "  </tbody>\n",
       "</table>\n",
       "</div>"
      ],
      "text/plain": [
       "                                                  title  subreddit  preds\n",
       "469   Meet the New Flack for Oil and Gas: Michael Moore          0      0\n",
       "812   Groups pressure Biden to exclude fossil fuel e...          1      0\n",
       "520   Science denialism: How Climate Change paved th...          1      1\n",
       "888                               When Elephants Attack          1      0\n",
       "1149  Virtual sports on Wazobet | Virtual Greyhounds...          1      0"
      ]
     },
     "execution_count": 123,
     "metadata": {},
     "output_type": "execute_result"
    }
   ],
   "source": [
    "new_df.head()"
   ]
  },
  {
   "cell_type": "code",
   "execution_count": 124,
   "metadata": {},
   "outputs": [],
   "source": [
    "new_df['subtract'] = new_df['preds'] - new_df['subreddit']"
   ]
  },
  {
   "cell_type": "code",
   "execution_count": 125,
   "metadata": {},
   "outputs": [],
   "source": [
    "only_misclass = new_df.loc[new_df['subtract'] != 0]"
   ]
  },
  {
   "cell_type": "code",
   "execution_count": 126,
   "metadata": {},
   "outputs": [
    {
     "data": {
      "text/html": [
       "<div>\n",
       "<style scoped>\n",
       "    .dataframe tbody tr th:only-of-type {\n",
       "        vertical-align: middle;\n",
       "    }\n",
       "\n",
       "    .dataframe tbody tr th {\n",
       "        vertical-align: top;\n",
       "    }\n",
       "\n",
       "    .dataframe thead th {\n",
       "        text-align: right;\n",
       "    }\n",
       "</style>\n",
       "<table border=\"1\" class=\"dataframe\">\n",
       "  <thead>\n",
       "    <tr style=\"text-align: right;\">\n",
       "      <th></th>\n",
       "      <th>title</th>\n",
       "      <th>subreddit</th>\n",
       "      <th>preds</th>\n",
       "      <th>subtract</th>\n",
       "    </tr>\n",
       "  </thead>\n",
       "  <tbody>\n",
       "    <tr>\n",
       "      <th>812</th>\n",
       "      <td>Groups pressure Biden to exclude fossil fuel e...</td>\n",
       "      <td>1</td>\n",
       "      <td>0</td>\n",
       "      <td>-1</td>\n",
       "    </tr>\n",
       "    <tr>\n",
       "      <th>888</th>\n",
       "      <td>When Elephants Attack</td>\n",
       "      <td>1</td>\n",
       "      <td>0</td>\n",
       "      <td>-1</td>\n",
       "    </tr>\n",
       "    <tr>\n",
       "      <th>1149</th>\n",
       "      <td>Virtual sports on Wazobet | Virtual Greyhounds...</td>\n",
       "      <td>1</td>\n",
       "      <td>0</td>\n",
       "      <td>-1</td>\n",
       "    </tr>\n",
       "    <tr>\n",
       "      <th>252</th>\n",
       "      <td>Comment below what you think 🤑🤫 What is more c...</td>\n",
       "      <td>0</td>\n",
       "      <td>1</td>\n",
       "      <td>1</td>\n",
       "    </tr>\n",
       "    <tr>\n",
       "      <th>766</th>\n",
       "      <td>Two of Biden's veep contenders roll out enviro...</td>\n",
       "      <td>0</td>\n",
       "      <td>1</td>\n",
       "      <td>1</td>\n",
       "    </tr>\n",
       "  </tbody>\n",
       "</table>\n",
       "</div>"
      ],
      "text/plain": [
       "                                                  title  subreddit  preds  \\\n",
       "812   Groups pressure Biden to exclude fossil fuel e...          1      0   \n",
       "888                               When Elephants Attack          1      0   \n",
       "1149  Virtual sports on Wazobet | Virtual Greyhounds...          1      0   \n",
       "252   Comment below what you think 🤑🤫 What is more c...          0      1   \n",
       "766   Two of Biden's veep contenders roll out enviro...          0      1   \n",
       "\n",
       "      subtract  \n",
       "812         -1  \n",
       "888         -1  \n",
       "1149        -1  \n",
       "252          1  \n",
       "766          1  "
      ]
     },
     "execution_count": 126,
     "metadata": {},
     "output_type": "execute_result"
    }
   ],
   "source": [
    "only_misclass.head()"
   ]
  },
  {
   "cell_type": "code",
   "execution_count": 129,
   "metadata": {},
   "outputs": [
    {
     "data": {
      "text/plain": [
       "(91, 4)"
      ]
     },
     "execution_count": 129,
     "metadata": {},
     "output_type": "execute_result"
    }
   ],
   "source": [
    "only_misclass.shape"
   ]
  },
  {
   "cell_type": "markdown",
   "metadata": {},
   "source": [
    "To dive in deeper on what may be causing misclassification, let's remove the common features - climate, change, and energy."
   ]
  },
  {
   "cell_type": "code",
   "execution_count": 144,
   "metadata": {},
   "outputs": [],
   "source": [
    "stops = ['climate', 'change', 'energy']"
   ]
  },
  {
   "cell_type": "code",
   "execution_count": 145,
   "metadata": {},
   "outputs": [],
   "source": [
    "# Credit to https://stackoverflow.com/questions/24386489/adding-words-to-scikit-learns-countvectorizers-stop-list\n",
    "stop_words = text.ENGLISH_STOP_WORDS.union(stops)"
   ]
  },
  {
   "cell_type": "code",
   "execution_count": 152,
   "metadata": {},
   "outputs": [],
   "source": [
    "#Instantiate a new CV\n",
    "cvec_misclass = CountVectorizer(stop_words = stop_words)"
   ]
  },
  {
   "cell_type": "code",
   "execution_count": 153,
   "metadata": {},
   "outputs": [
    {
     "data": {
      "text/plain": [
       "CountVectorizer(stop_words=frozenset({'a', 'about', 'above', 'across', 'after',\n",
       "                                      'afterwards', 'again', 'against', 'all',\n",
       "                                      'almost', 'alone', 'along', 'already',\n",
       "                                      'also', 'although', 'always', 'am',\n",
       "                                      'among', 'amongst', 'amoungst', 'amount',\n",
       "                                      'an', 'and', 'another', 'any', 'anyhow',\n",
       "                                      'anyone', 'anything', 'anyway',\n",
       "                                      'anywhere', ...}))"
      ]
     },
     "execution_count": 153,
     "metadata": {},
     "output_type": "execute_result"
    }
   ],
   "source": [
    "cvec_misclass.fit(only_misclass['title'])"
   ]
  },
  {
   "cell_type": "code",
   "execution_count": 154,
   "metadata": {},
   "outputs": [],
   "source": [
    "misclass_title = cvec_misclass.transform(only_misclass['title'])"
   ]
  },
  {
   "cell_type": "code",
   "execution_count": 155,
   "metadata": {},
   "outputs": [],
   "source": [
    "misclass_title_df = pd.DataFrame(misclass_title.todense(),\n",
    "                                columns=cvec_misclass.get_feature_names())"
   ]
  },
  {
   "cell_type": "code",
   "execution_count": 414,
   "metadata": {},
   "outputs": [
    {
     "data": {
      "text/plain": [
       "Text(0.5, 0, 'Word Count')"
      ]
     },
     "execution_count": 414,
     "metadata": {},
     "output_type": "execute_result"
    },
    {
     "data": {
      "image/png": "[encoded data removed]",
      "text/plain": [
       "<Figure size 864x864 with 1 Axes>"
      ]
     },
     "metadata": {
      "needs_background": "light"
     },
     "output_type": "display_data"
    }
   ],
   "source": [
    "plt.figure(figsize=(12,12))\n",
    "misclass_title_df.sum().sort_values(ascending=False).head(30).plot(kind='barh');\n",
    "\n",
    "plt.title('Model Misclassification', fontsize=22);\n",
    "plt.xticks(fontsize=14);\n",
    "plt.yticks(fontsize=14);\n",
    "plt.xlabel('Word Count', fontsize=18)"
   ]
  },
  {
   "cell_type": "markdown",
   "metadata": {},
   "source": [
    "Above, we can see many of the commonly misclassified words are associated with energy topics. Within the context of the problem statement and it's focus on education, this could indicate that many users are using energy topics in an uninformed manner."
   ]
  },
  {
   "cell_type": "markdown",
   "metadata": {},
   "source": [
    "## Pipe 4 - Tfidf & Multinomial Naive Bayes"
   ]
  },
  {
   "cell_type": "code",
   "execution_count": 449,
   "metadata": {},
   "outputs": [],
   "source": [
    "# Redefine training and testing\n",
    "# Redefine training and testing sets.\n",
    "X_train, X_test, y_train, y_test = train_test_split(X,\n",
    "                                                    y,\n",
    "                                                    stratify=y,\n",
    "                                                    random_state=42)"
   ]
  },
  {
   "cell_type": "code",
   "execution_count": 450,
   "metadata": {},
   "outputs": [],
   "source": [
    "pipe_4 = Pipeline([\n",
    "    ('tvec_2', TfidfVectorizer()),\n",
    "    ('nb_1', MultinomialNB())\n",
    "])"
   ]
  },
  {
   "cell_type": "code",
   "execution_count": 451,
   "metadata": {},
   "outputs": [
    {
     "data": {
      "text/plain": [
       "Pipeline(steps=[('tvec_2', TfidfVectorizer()), ('nb_1', MultinomialNB())])"
      ]
     },
     "execution_count": 451,
     "metadata": {},
     "output_type": "execute_result"
    }
   ],
   "source": [
    "#Estimate how your model will perform on unseen data\n",
    "cross_val_score(pipe_4, X_train, y_train, cv=3).mean() \n",
    "\n",
    "# Fit your model\n",
    "pipe_4.fit(X_train, y_train)"
   ]
  },
  {
   "cell_type": "code",
   "execution_count": 452,
   "metadata": {},
   "outputs": [
    {
     "name": "stdout",
     "output_type": "stream",
     "text": [
      "The training score of our logistic regression model is: 0.9433333333333334\n",
      "The testing score of our logistic regression model is: 0.8166666666666667\n"
     ]
    }
   ],
   "source": [
    "# Evaluate our model\n",
    "print(f\"The training score of our logistic regression model is: {pipe_4.score(X_train, y_train)}\")\n",
    "print(f\"The testing score of our logistic regression model is: {pipe_4.score(X_test, y_test)}\")"
   ]
  },
  {
   "cell_type": "markdown",
   "metadata": {},
   "source": [
    "### Let's load pipe_4 into the gridsearch"
   ]
  },
  {
   "cell_type": "code",
   "execution_count": 453,
   "metadata": {},
   "outputs": [],
   "source": [
    "# Search over the following values of hyperparameters:\n",
    "# Maximum number of features fit: 1000, 2000, 3000, 4000, and None\n",
    "# Minimum number of documents needed to include token: 2, 3\n",
    "# No stop words and stop_words list\n",
    "# Check (individual tokens) and also check (individual tokens and 2-grams).\n",
    "# Maximum number of documents needed to include token: 90%, 95%\n",
    "\n",
    "\n",
    "pipe_4_params = {\n",
    "    'tvec_2__stop_words': [stop_words, None],\n",
    "    'tvec_2__max_features': [1000, 2000, 3000, 4000, None],\n",
    "    'tvec_2__min_df': [2, 3],\n",
    "    'tvec_2__max_df': [.9, .95],\n",
    "    'tvec_2__ngram_range': [(1,1), (1,2)]\n",
    "}\n"
   ]
  },
  {
   "cell_type": "code",
   "execution_count": 454,
   "metadata": {},
   "outputs": [],
   "source": [
    "# Instantiate GridSearch\n",
    "gs_4 = GridSearchCV(pipe_4,\n",
    "                   pipe_4_params,\n",
    "                   cv=5)"
   ]
  },
  {
   "cell_type": "code",
   "execution_count": 455,
   "metadata": {},
   "outputs": [
    {
     "data": {
      "text/plain": [
       "GridSearchCV(cv=5,\n",
       "             estimator=Pipeline(steps=[('tvec_2', TfidfVectorizer()),\n",
       "                                       ('nb_1', MultinomialNB())]),\n",
       "             param_grid={'tvec_2__max_df': [0.9, 0.95],\n",
       "                         'tvec_2__max_features': [1000, 2000, 3000, 4000, None],\n",
       "                         'tvec_2__min_df': [2, 3],\n",
       "                         'tvec_2__ngram_range': [(1, 1), (1, 2)],\n",
       "                         'tvec_2__stop_words': [frozenset({'a', 'about',\n",
       "                                                           'above', 'across',\n",
       "                                                           'after',\n",
       "                                                           'afterwards',\n",
       "                                                           'again', 'against',\n",
       "                                                           'all', 'almost',\n",
       "                                                           'alone', 'along',\n",
       "                                                           'already', 'also',\n",
       "                                                           'although', 'always',\n",
       "                                                           'am', 'among',\n",
       "                                                           'amongst',\n",
       "                                                           'amoungst', 'amount',\n",
       "                                                           'an', 'and',\n",
       "                                                           'another', 'any',\n",
       "                                                           'anyhow', 'anyone',\n",
       "                                                           'anything', 'anyway',\n",
       "                                                           'anywhere', ...}),\n",
       "                                                None]})"
      ]
     },
     "execution_count": 455,
     "metadata": {},
     "output_type": "execute_result"
    }
   ],
   "source": [
    "gs_4.fit(X_train, y_train)"
   ]
  },
  {
   "cell_type": "code",
   "execution_count": 456,
   "metadata": {},
   "outputs": [
    {
     "data": {
      "text/plain": [
       "{'tvec_2__max_df': 0.9,\n",
       " 'tvec_2__max_features': 3000,\n",
       " 'tvec_2__min_df': 2,\n",
       " 'tvec_2__ngram_range': (1, 2),\n",
       " 'tvec_2__stop_words': None}"
      ]
     },
     "execution_count": 456,
     "metadata": {},
     "output_type": "execute_result"
    }
   ],
   "source": [
    "gs_4.best_params_"
   ]
  },
  {
   "cell_type": "code",
   "execution_count": 457,
   "metadata": {},
   "outputs": [
    {
     "name": "stdout",
     "output_type": "stream",
     "text": [
      "0.8338888888888889\n"
     ]
    }
   ],
   "source": [
    "print(gs_4.best_score_)"
   ]
  },
  {
   "cell_type": "code",
   "execution_count": 460,
   "metadata": {},
   "outputs": [
    {
     "name": "stdout",
     "output_type": "stream",
     "text": [
      "The training score of our logistic regression model is: 0.9127777777777778\n",
      "The testing score of our logistic regression model is: 0.815\n"
     ]
    }
   ],
   "source": [
    "# Evaluate our model\n",
    "print(f\"The training score of our logistic regression model is: {gs_4.score(X_train, y_train)}\")\n",
    "print(f\"The testing score of our logistic regression model is: {gs_4.score(X_test, y_test)}\")"
   ]
  },
  {
   "cell_type": "code",
   "execution_count": 246,
   "metadata": {},
   "outputs": [],
   "source": [
    "# Get predictions\n",
    "preds = gs_4.predict(X_test)\n",
    "\n",
    "# Save confusion matrix values\n",
    "tn, fp, fn, tp = confusion_matrix(y_test, preds).ravel()\n"
   ]
  },
  {
   "cell_type": "code",
   "execution_count": 247,
   "metadata": {},
   "outputs": [
    {
     "data": {
      "image/png": "[encoded data removed]",
      "text/plain": [
       "<Figure size 432x288 with 2 Axes>"
      ]
     },
     "metadata": {
      "needs_background": "light"
     },
     "output_type": "display_data"
    }
   ],
   "source": [
    "# visualize this\n",
    "\n",
    "plot_confusion_matrix(gs_4, X_test, y_test, cmap='Blues', values_format='d');"
   ]
  },
  {
   "cell_type": "markdown",
   "metadata": {},
   "source": [
    "## Pipe 5 - CVEC & Multinomial Naive Bayes"
   ]
  },
  {
   "cell_type": "code",
   "execution_count": 461,
   "metadata": {},
   "outputs": [],
   "source": [
    "# Redefine training and testing\n",
    "# Redefine training and testing sets.\n",
    "X_train, X_test, y_train, y_test = train_test_split(X,\n",
    "                                                    y,\n",
    "                                                    stratify=y,\n",
    "                                                    random_state=42)"
   ]
  },
  {
   "cell_type": "code",
   "execution_count": 462,
   "metadata": {},
   "outputs": [],
   "source": [
    "pipe_5 = Pipeline([\n",
    "    ('cvec_3', CountVectorizer()),\n",
    "    ('nb_2', MultinomialNB())\n",
    "])"
   ]
  },
  {
   "cell_type": "code",
   "execution_count": 463,
   "metadata": {},
   "outputs": [
    {
     "data": {
      "text/plain": [
       "Pipeline(steps=[('cvec_3', CountVectorizer()), ('nb_2', MultinomialNB())])"
      ]
     },
     "execution_count": 463,
     "metadata": {},
     "output_type": "execute_result"
    }
   ],
   "source": [
    "#Estimate how your model will perform on unseen data\n",
    "cross_val_score(pipe_5, X_train, y_train, cv=3).mean() \n",
    "\n",
    "# Fit your model\n",
    "pipe_5.fit(X_train, y_train)"
   ]
  },
  {
   "cell_type": "code",
   "execution_count": 464,
   "metadata": {},
   "outputs": [
    {
     "name": "stdout",
     "output_type": "stream",
     "text": [
      "The training score of our logistic regression model is: 0.94\n",
      "The testing score of our logistic regression model is: 0.84\n"
     ]
    }
   ],
   "source": [
    "# Evaluate our model\n",
    "print(f\"The training score of our logistic regression model is: {pipe_5.score(X_train, y_train)}\")\n",
    "print(f\"The testing score of our logistic regression model is: {pipe_5.score(X_test, y_test)}\")"
   ]
  },
  {
   "cell_type": "markdown",
   "metadata": {},
   "source": [
    "### Let's load pipe_5 into the gridsearch"
   ]
  },
  {
   "cell_type": "code",
   "execution_count": 465,
   "metadata": {},
   "outputs": [],
   "source": [
    "# Search over the following values of hyperparameters:\n",
    "# Maximum number of features fit: 1000, 2000, 3000, 4000, and None\n",
    "# Minimum number of documents needed to include token: 2, 3\n",
    "# No stop words and stop_words list\n",
    "# Check (individual tokens) and also check (individual tokens and 2-grams).\n",
    "# Maximum number of documents needed to include token: 90%, 95%\n",
    "\n",
    "\n",
    "pipe_5_params = {\n",
    "    'cvec_3__stop_words': [stop_words, None],\n",
    "    'cvec_3__max_features': [1000, 2000, 3000, 4000, None],\n",
    "    'cvec_3__min_df': [2, 3],\n",
    "    'cvec_3__max_df': [.9, .95],\n",
    "    'cvec_3__ngram_range': [(1,1), (1,2)]\n",
    "}\n"
   ]
  },
  {
   "cell_type": "code",
   "execution_count": 466,
   "metadata": {},
   "outputs": [],
   "source": [
    "# Instantiate GridSearch\n",
    "gs_5 = GridSearchCV(pipe_5,\n",
    "                   pipe_5_params,\n",
    "                   cv=5)"
   ]
  },
  {
   "cell_type": "code",
   "execution_count": 467,
   "metadata": {},
   "outputs": [
    {
     "data": {
      "text/plain": [
       "GridSearchCV(cv=5,\n",
       "             estimator=Pipeline(steps=[('cvec_3', CountVectorizer()),\n",
       "                                       ('nb_2', MultinomialNB())]),\n",
       "             param_grid={'cvec_3__max_df': [0.9, 0.95],\n",
       "                         'cvec_3__max_features': [1000, 2000, 3000, 4000, None],\n",
       "                         'cvec_3__min_df': [2, 3],\n",
       "                         'cvec_3__ngram_range': [(1, 1), (1, 2)],\n",
       "                         'cvec_3__stop_words': [frozenset({'a', 'about',\n",
       "                                                           'above', 'across',\n",
       "                                                           'after',\n",
       "                                                           'afterwards',\n",
       "                                                           'again', 'against',\n",
       "                                                           'all', 'almost',\n",
       "                                                           'alone', 'along',\n",
       "                                                           'already', 'also',\n",
       "                                                           'although', 'always',\n",
       "                                                           'am', 'among',\n",
       "                                                           'amongst',\n",
       "                                                           'amoungst', 'amount',\n",
       "                                                           'an', 'and',\n",
       "                                                           'another', 'any',\n",
       "                                                           'anyhow', 'anyone',\n",
       "                                                           'anything', 'anyway',\n",
       "                                                           'anywhere', ...}),\n",
       "                                                None]})"
      ]
     },
     "execution_count": 467,
     "metadata": {},
     "output_type": "execute_result"
    }
   ],
   "source": [
    "gs_5.fit(X_train, y_train)"
   ]
  },
  {
   "cell_type": "code",
   "execution_count": 468,
   "metadata": {},
   "outputs": [
    {
     "data": {
      "text/plain": [
       "{'cvec_3__max_df': 0.9,\n",
       " 'cvec_3__max_features': 4000,\n",
       " 'cvec_3__min_df': 2,\n",
       " 'cvec_3__ngram_range': (1, 2),\n",
       " 'cvec_3__stop_words': None}"
      ]
     },
     "execution_count": 468,
     "metadata": {},
     "output_type": "execute_result"
    }
   ],
   "source": [
    "gs_5.best_params_"
   ]
  },
  {
   "cell_type": "code",
   "execution_count": 469,
   "metadata": {},
   "outputs": [
    {
     "name": "stdout",
     "output_type": "stream",
     "text": [
      "0.836111111111111\n"
     ]
    }
   ],
   "source": [
    "print(gs_5.best_score_)"
   ]
  },
  {
   "cell_type": "code",
   "execution_count": 471,
   "metadata": {},
   "outputs": [
    {
     "name": "stdout",
     "output_type": "stream",
     "text": [
      "The training score of our logistic regression model is: 0.9133333333333333\n",
      "The testing score of our logistic regression model is: 0.8066666666666666\n"
     ]
    }
   ],
   "source": [
    "# Evaluate our model\n",
    "print(f\"The training score of our logistic regression model is: {gs_5.score(X_train, y_train)}\")\n",
    "print(f\"The testing score of our logistic regression model is: {gs_5.score(X_test, y_test)}\")"
   ]
  },
  {
   "cell_type": "code",
   "execution_count": 276,
   "metadata": {},
   "outputs": [],
   "source": [
    "# Get predictions\n",
    "preds = gs_5.predict(X_test)\n",
    "\n",
    "# Save confusion matrix values\n",
    "tn, fp, fn, tp = confusion_matrix(y_test, preds).ravel()\n"
   ]
  },
  {
   "cell_type": "code",
   "execution_count": 277,
   "metadata": {},
   "outputs": [
    {
     "data": {
      "image/png": "[encoded data removed]",
      "text/plain": [
       "<Figure size 432x288 with 2 Axes>"
      ]
     },
     "metadata": {
      "needs_background": "light"
     },
     "output_type": "display_data"
    }
   ],
   "source": [
    "# visualize this\n",
    "\n",
    "plot_confusion_matrix(gs_5, X_test, y_test, cmap='Blues', values_format='d');"
   ]
  },
  {
   "cell_type": "markdown",
   "metadata": {},
   "source": [
    "# Model 6 - CVEC & Random Forest"
   ]
  },
  {
   "cell_type": "code",
   "execution_count": 472,
   "metadata": {},
   "outputs": [],
   "source": [
    "# Redefine training and testing\n",
    "# Redefine training and testing sets.\n",
    "X_train, X_test, y_train, y_test = train_test_split(X,\n",
    "                                                    y,\n",
    "                                                    stratify=y,\n",
    "                                                    random_state=42)"
   ]
  },
  {
   "cell_type": "code",
   "execution_count": 473,
   "metadata": {},
   "outputs": [],
   "source": [
    "pipe_6 = Pipeline([\n",
    "    ('cvec_4', CountVectorizer()),\n",
    "    ('rf', RandomForestClassifier())\n",
    "])"
   ]
  },
  {
   "cell_type": "code",
   "execution_count": 474,
   "metadata": {},
   "outputs": [
    {
     "data": {
      "text/plain": [
       "Pipeline(steps=[('cvec_4', CountVectorizer()),\n",
       "                ('rf', RandomForestClassifier())])"
      ]
     },
     "execution_count": 474,
     "metadata": {},
     "output_type": "execute_result"
    }
   ],
   "source": [
    "#Estimate how your model will perform on unseen data\n",
    "cross_val_score(pipe_6, X_train, y_train, cv=3).mean() \n",
    "\n",
    "# Fit your model\n",
    "pipe_6.fit(X_train, y_train)"
   ]
  },
  {
   "cell_type": "code",
   "execution_count": 475,
   "metadata": {},
   "outputs": [
    {
     "name": "stdout",
     "output_type": "stream",
     "text": [
      "The training score of our logistic regression model is: 0.9877777777777778\n",
      "The testing score of our logistic regression model is: 0.825\n"
     ]
    }
   ],
   "source": [
    "# Evaluate our model\n",
    "print(f\"The training score of our logistic regression model is: {pipe_6.score(X_train, y_train)}\")\n",
    "print(f\"The testing score of our logistic regression model is: {pipe_6.score(X_test, y_test)}\")"
   ]
  },
  {
   "cell_type": "markdown",
   "metadata": {},
   "source": [
    "### Let's load pipe_6 into the gridsearch"
   ]
  },
  {
   "cell_type": "code",
   "execution_count": 476,
   "metadata": {},
   "outputs": [],
   "source": [
    "# Search over the following values of hyperparameters:\n",
    "# Maximum number of features fit: 1000, 2000, 3000, 4000, and None\n",
    "# Minimum number of documents needed to include token: 2, 3\n",
    "# No stop words and stop_words list\n",
    "# Check (individual tokens) and also check (individual tokens and 2-grams).\n",
    "# Maximum number of documents needed to include token: 90%, 95%\n",
    "\n",
    "\n",
    "pipe_6_params = {\n",
    "    'cvec_4__stop_words': [stop_words, None],\n",
    "    'cvec_4__max_features': [1000, 2000, 3000, 4000, None],\n",
    "    'cvec_4__min_df': [2, 3],\n",
    "    'cvec_4__max_df': [.9, .95],\n",
    "    'cvec_4__ngram_range': [(1,1), (1,2)],\n",
    "    'rf__n_estimators': [100, 150, 200],\n",
    "    'rf__max_depth': [None, 1, 2, 3, 4, 5],\n",
    "}\n"
   ]
  },
  {
   "cell_type": "code",
   "execution_count": 477,
   "metadata": {},
   "outputs": [],
   "source": [
    "# Instantiate GridSearch\n",
    "gs_6 = GridSearchCV(pipe_6,\n",
    "                   pipe_6_params,\n",
    "                   cv=5)"
   ]
  },
  {
   "cell_type": "code",
   "execution_count": 478,
   "metadata": {},
   "outputs": [
    {
     "data": {
      "text/plain": [
       "GridSearchCV(cv=5,\n",
       "             estimator=Pipeline(steps=[('cvec_4', CountVectorizer()),\n",
       "                                       ('rf', RandomForestClassifier())]),\n",
       "             param_grid={'cvec_4__max_df': [0.9, 0.95],\n",
       "                         'cvec_4__max_features': [1000, 2000, 3000, 4000, None],\n",
       "                         'cvec_4__min_df': [2, 3],\n",
       "                         'cvec_4__ngram_range': [(1, 1), (1, 2)],\n",
       "                         'cvec_4__stop_words': [frozenset({'a', 'about',\n",
       "                                                           'above', 'across',\n",
       "                                                           'after',\n",
       "                                                           'afterwards',\n",
       "                                                           'again', 'against',\n",
       "                                                           'all', 'almost',\n",
       "                                                           'alone', 'along',\n",
       "                                                           'already', 'also',\n",
       "                                                           'although', 'always',\n",
       "                                                           'am', 'among',\n",
       "                                                           'amongst',\n",
       "                                                           'amoungst', 'amount',\n",
       "                                                           'an', 'and',\n",
       "                                                           'another', 'any',\n",
       "                                                           'anyhow', 'anyone',\n",
       "                                                           'anything', 'anyway',\n",
       "                                                           'anywhere', ...}),\n",
       "                                                None],\n",
       "                         'rf__max_depth': [None, 1, 2, 3, 4, 5],\n",
       "                         'rf__n_estimators': [100, 150, 200]})"
      ]
     },
     "execution_count": 478,
     "metadata": {},
     "output_type": "execute_result"
    }
   ],
   "source": [
    "gs_6.fit(X_train, y_train)"
   ]
  },
  {
   "cell_type": "code",
   "execution_count": 479,
   "metadata": {},
   "outputs": [
    {
     "data": {
      "text/plain": [
       "{'cvec_4__max_df': 0.95,\n",
       " 'cvec_4__max_features': 4000,\n",
       " 'cvec_4__min_df': 3,\n",
       " 'cvec_4__ngram_range': (1, 1),\n",
       " 'cvec_4__stop_words': None,\n",
       " 'rf__max_depth': 5,\n",
       " 'rf__n_estimators': 100}"
      ]
     },
     "execution_count": 479,
     "metadata": {},
     "output_type": "execute_result"
    }
   ],
   "source": [
    "gs_6.best_params_"
   ]
  },
  {
   "cell_type": "code",
   "execution_count": 480,
   "metadata": {},
   "outputs": [
    {
     "name": "stdout",
     "output_type": "stream",
     "text": [
      "0.8233333333333333\n"
     ]
    }
   ],
   "source": [
    "print(gs_6.best_score_)"
   ]
  },
  {
   "cell_type": "code",
   "execution_count": 481,
   "metadata": {},
   "outputs": [
    {
     "name": "stdout",
     "output_type": "stream",
     "text": [
      "The training score of our logistic regression model is: 0.8388888888888889\n",
      "The testing score of our logistic regression model is: 0.795\n"
     ]
    }
   ],
   "source": [
    "# Evaluate our model\n",
    "print(f\"The training score of our logistic regression model is: {gs_6.score(X_train, y_train)}\")\n",
    "print(f\"The testing score of our logistic regression model is: {gs_6.score(X_test, y_test)}\")"
   ]
  },
  {
   "cell_type": "code",
   "execution_count": 484,
   "metadata": {},
   "outputs": [],
   "source": [
    "# Get predictions\n",
    "preds = gs_6.predict(X_test)\n",
    "\n",
    "# Save confusion matrix values\n",
    "tn, fp, fn, tp = confusion_matrix(y_test, preds).ravel()\n"
   ]
  },
  {
   "cell_type": "code",
   "execution_count": 485,
   "metadata": {},
   "outputs": [
    {
     "data": {
      "image/png": "[encoded data removed]",
      "text/plain": [
       "<Figure size 432x288 with 2 Axes>"
      ]
     },
     "metadata": {
      "needs_background": "light"
     },
     "output_type": "display_data"
    }
   ],
   "source": [
    "# visualize this\n",
    "\n",
    "plot_confusion_matrix(gs_6, X_test, y_test, cmap='Blues', values_format='d');"
   ]
  },
  {
   "cell_type": "markdown",
   "metadata": {},
   "source": [
    "# Conclusions"
   ]
  },
  {
   "cell_type": "markdown",
   "metadata": {},
   "source": [
    "With the stated goal of better understanding the climate and energy subreddits, the analysis presented herein effectively identifies trends in word usage and sentiment. Over a span of six models, we were able to identify the best performing, which is the TF-IDF transformer and logistic regression estimator. This model yielded an accuracy of 85% on our testing data.\n",
    "\n",
    "We identified misclassified words, which will help better frame our topics in our upcoming book covering the nexus of climate and energy. The misclassified words tended to be more focused on energy topics. By better understanding where knowledge gaps may occur, we can attempt to provide useful information for closing the gap between climate and energy.\n",
    "\n",
    "Further research should be undertaken within topics specific to energy and climate, respectively, such that more informed conclusions can be presented to future readers of our educational work."
   ]
  },
  {
   "cell_type": "code",
   "execution_count": null,
   "metadata": {},
   "outputs": [],
   "source": []
  }
 ],
 "metadata": {
  "kernelspec": {
   "display_name": "Python 3",
   "language": "python",
   "name": "python3"
  },
  "language_info": {
   "codemirror_mode": {
    "name": "ipython",
    "version": 3
   },
   "file_extension": ".py",
   "mimetype": "text/x-python",
   "name": "python",
   "nbconvert_exporter": "python",
   "pygments_lexer": "ipython3",
   "version": "3.8.5"
  }
 },
 "nbformat": 4,
 "nbformat_minor": 4
}
